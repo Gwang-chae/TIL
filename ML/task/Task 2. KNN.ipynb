{
 "cells": [
  {
   "cell_type": "code",
   "execution_count": 1,
   "metadata": {},
   "outputs": [],
   "source": [
    "import pandas as pd\n",
    "import numpy as np\n",
    "import matplotlib.pyplot as plt\n",
    "from sklearn.neighbors import KNeighborsClassifier"
   ]
  },
  {
   "cell_type": "code",
   "execution_count": 2,
   "metadata": {},
   "outputs": [
    {
     "data": {
      "text/html": [
       "<div>\n",
       "<style scoped>\n",
       "    .dataframe tbody tr th:only-of-type {\n",
       "        vertical-align: middle;\n",
       "    }\n",
       "\n",
       "    .dataframe tbody tr th {\n",
       "        vertical-align: top;\n",
       "    }\n",
       "\n",
       "    .dataframe thead th {\n",
       "        text-align: right;\n",
       "    }\n",
       "</style>\n",
       "<table border=\"1\" class=\"dataframe\">\n",
       "  <thead>\n",
       "    <tr style=\"text-align: right;\">\n",
       "      <th></th>\n",
       "      <th>region-centroid-col</th>\n",
       "      <th>region-centroid-row</th>\n",
       "      <th>region-pixel-count</th>\n",
       "      <th>short-line-density-5</th>\n",
       "      <th>short-line-density-2</th>\n",
       "      <th>vedge-mean</th>\n",
       "      <th>vegde-sd</th>\n",
       "      <th>hedge-mean</th>\n",
       "      <th>hedge-sd</th>\n",
       "      <th>intensity-mean</th>\n",
       "      <th>rawred-mean</th>\n",
       "      <th>rawblue-mean</th>\n",
       "      <th>rawgreen-mean</th>\n",
       "      <th>exred-mean</th>\n",
       "      <th>exblue-mean</th>\n",
       "      <th>exgreen-mean</th>\n",
       "      <th>value-mean</th>\n",
       "      <th>saturation-mean</th>\n",
       "      <th>hue-mean</th>\n",
       "      <th>binaryClass</th>\n",
       "    </tr>\n",
       "  </thead>\n",
       "  <tbody>\n",
       "    <tr>\n",
       "      <th>0</th>\n",
       "      <td>218</td>\n",
       "      <td>178</td>\n",
       "      <td>9</td>\n",
       "      <td>0.111111</td>\n",
       "      <td>0.0</td>\n",
       "      <td>0.833333</td>\n",
       "      <td>0.547722</td>\n",
       "      <td>1.111110</td>\n",
       "      <td>0.544331</td>\n",
       "      <td>59.629600</td>\n",
       "      <td>52.4444</td>\n",
       "      <td>75.22220</td>\n",
       "      <td>51.222200</td>\n",
       "      <td>-21.55560</td>\n",
       "      <td>46.7778</td>\n",
       "      <td>-25.22220</td>\n",
       "      <td>75.22220</td>\n",
       "      <td>0.318996</td>\n",
       "      <td>-2.04055</td>\n",
       "      <td>N</td>\n",
       "    </tr>\n",
       "    <tr>\n",
       "      <th>1</th>\n",
       "      <td>113</td>\n",
       "      <td>130</td>\n",
       "      <td>9</td>\n",
       "      <td>0.000000</td>\n",
       "      <td>0.0</td>\n",
       "      <td>0.277778</td>\n",
       "      <td>0.250924</td>\n",
       "      <td>0.333333</td>\n",
       "      <td>0.365148</td>\n",
       "      <td>0.888889</td>\n",
       "      <td>0.0000</td>\n",
       "      <td>2.55556</td>\n",
       "      <td>0.111111</td>\n",
       "      <td>-2.66667</td>\n",
       "      <td>5.0000</td>\n",
       "      <td>-2.33333</td>\n",
       "      <td>2.55556</td>\n",
       "      <td>1.000000</td>\n",
       "      <td>-2.12325</td>\n",
       "      <td>N</td>\n",
       "    </tr>\n",
       "    <tr>\n",
       "      <th>2</th>\n",
       "      <td>202</td>\n",
       "      <td>41</td>\n",
       "      <td>9</td>\n",
       "      <td>0.000000</td>\n",
       "      <td>0.0</td>\n",
       "      <td>0.944448</td>\n",
       "      <td>0.772202</td>\n",
       "      <td>1.111110</td>\n",
       "      <td>1.025600</td>\n",
       "      <td>123.037000</td>\n",
       "      <td>111.8890</td>\n",
       "      <td>139.77800</td>\n",
       "      <td>117.444000</td>\n",
       "      <td>-33.44440</td>\n",
       "      <td>50.2222</td>\n",
       "      <td>-16.77780</td>\n",
       "      <td>139.77800</td>\n",
       "      <td>0.199347</td>\n",
       "      <td>-2.29992</td>\n",
       "      <td>N</td>\n",
       "    </tr>\n",
       "    <tr>\n",
       "      <th>3</th>\n",
       "      <td>32</td>\n",
       "      <td>173</td>\n",
       "      <td>9</td>\n",
       "      <td>0.000000</td>\n",
       "      <td>0.0</td>\n",
       "      <td>1.722220</td>\n",
       "      <td>1.781590</td>\n",
       "      <td>9.000000</td>\n",
       "      <td>6.749490</td>\n",
       "      <td>43.592600</td>\n",
       "      <td>39.5556</td>\n",
       "      <td>52.88890</td>\n",
       "      <td>38.333300</td>\n",
       "      <td>-12.11110</td>\n",
       "      <td>27.8889</td>\n",
       "      <td>-15.77780</td>\n",
       "      <td>52.88890</td>\n",
       "      <td>0.266914</td>\n",
       "      <td>-1.99886</td>\n",
       "      <td>N</td>\n",
       "    </tr>\n",
       "    <tr>\n",
       "      <th>4</th>\n",
       "      <td>61</td>\n",
       "      <td>197</td>\n",
       "      <td>9</td>\n",
       "      <td>0.000000</td>\n",
       "      <td>0.0</td>\n",
       "      <td>1.444440</td>\n",
       "      <td>1.515350</td>\n",
       "      <td>2.611110</td>\n",
       "      <td>1.925460</td>\n",
       "      <td>49.592600</td>\n",
       "      <td>44.2222</td>\n",
       "      <td>61.55560</td>\n",
       "      <td>43.000000</td>\n",
       "      <td>-16.11110</td>\n",
       "      <td>35.8889</td>\n",
       "      <td>-19.77780</td>\n",
       "      <td>61.55560</td>\n",
       "      <td>0.302925</td>\n",
       "      <td>-2.02227</td>\n",
       "      <td>N</td>\n",
       "    </tr>\n",
       "  </tbody>\n",
       "</table>\n",
       "</div>"
      ],
      "text/plain": [
       "   region-centroid-col  region-centroid-row  region-pixel-count  \\\n",
       "0                  218                  178                   9   \n",
       "1                  113                  130                   9   \n",
       "2                  202                   41                   9   \n",
       "3                   32                  173                   9   \n",
       "4                   61                  197                   9   \n",
       "\n",
       "   short-line-density-5  short-line-density-2  vedge-mean  vegde-sd  \\\n",
       "0              0.111111                   0.0    0.833333  0.547722   \n",
       "1              0.000000                   0.0    0.277778  0.250924   \n",
       "2              0.000000                   0.0    0.944448  0.772202   \n",
       "3              0.000000                   0.0    1.722220  1.781590   \n",
       "4              0.000000                   0.0    1.444440  1.515350   \n",
       "\n",
       "   hedge-mean  hedge-sd  intensity-mean  rawred-mean  rawblue-mean  \\\n",
       "0    1.111110  0.544331       59.629600      52.4444      75.22220   \n",
       "1    0.333333  0.365148        0.888889       0.0000       2.55556   \n",
       "2    1.111110  1.025600      123.037000     111.8890     139.77800   \n",
       "3    9.000000  6.749490       43.592600      39.5556      52.88890   \n",
       "4    2.611110  1.925460       49.592600      44.2222      61.55560   \n",
       "\n",
       "   rawgreen-mean  exred-mean  exblue-mean  exgreen-mean  value-mean  \\\n",
       "0      51.222200   -21.55560      46.7778     -25.22220    75.22220   \n",
       "1       0.111111    -2.66667       5.0000      -2.33333     2.55556   \n",
       "2     117.444000   -33.44440      50.2222     -16.77780   139.77800   \n",
       "3      38.333300   -12.11110      27.8889     -15.77780    52.88890   \n",
       "4      43.000000   -16.11110      35.8889     -19.77780    61.55560   \n",
       "\n",
       "   saturation-mean  hue-mean binaryClass  \n",
       "0         0.318996  -2.04055           N  \n",
       "1         1.000000  -2.12325           N  \n",
       "2         0.199347  -2.29992           N  \n",
       "3         0.266914  -1.99886           N  \n",
       "4         0.302925  -2.02227           N  "
      ]
     },
     "execution_count": 2,
     "metadata": {},
     "output_type": "execute_result"
    }
   ],
   "source": [
    "data = pd.read_csv('C:/Users/user/Desktop/강의/ML/segment.csv')\n",
    "data.head()"
   ]
  },
  {
   "cell_type": "code",
   "execution_count": 3,
   "metadata": {},
   "outputs": [
    {
     "name": "stdout",
     "output_type": "stream",
     "text": [
      "20\n",
      "2310\n"
     ]
    }
   ],
   "source": [
    "print(len(data.columns))\n",
    "print(len(data))"
   ]
  },
  {
   "cell_type": "code",
   "execution_count": 4,
   "metadata": {},
   "outputs": [
    {
     "name": "stdout",
     "output_type": "stream",
     "text": [
      "[[ 2.18000e+02  1.78000e+02  9.00000e+00 ...  7.52222e+01  3.18996e-01\n",
      "  -2.04055e+00]\n",
      " [ 1.13000e+02  1.30000e+02  9.00000e+00 ...  2.55556e+00  1.00000e+00\n",
      "  -2.12325e+00]\n",
      " [ 2.02000e+02  4.10000e+01  9.00000e+00 ...  1.39778e+02  1.99347e-01\n",
      "  -2.29992e+00]\n",
      " ...\n",
      " [ 8.00000e+01  7.20000e+01  9.00000e+00 ...  7.44444e+01  3.14606e-01\n",
      "  -2.09022e+00]\n",
      " [ 9.80000e+01  1.33000e+02  9.00000e+00 ...  2.77778e+00  1.00000e+00\n",
      "  -2.12325e+00]\n",
      " [ 1.90000e+01  1.47000e+02  9.00000e+00 ...  7.00000e+00  7.13228e-01\n",
      "  -1.47564e+00]]\n",
      "['N' 'N' 'N' ... 'N' 'N' 'P']\n"
     ]
    }
   ],
   "source": [
    "X = data.iloc[:,:-1].values\n",
    "y = data.iloc[:,19].values\n",
    "print(X)\n",
    "print(y)"
   ]
  },
  {
   "cell_type": "code",
   "execution_count": 5,
   "metadata": {},
   "outputs": [],
   "source": [
    "from sklearn.model_selection import train_test_split\n",
    "X_train, X_test, y_train, y_test = train_test_split(X, y, test_size=0.20)"
   ]
  },
  {
   "cell_type": "code",
   "execution_count": 6,
   "metadata": {},
   "outputs": [],
   "source": [
    "from sklearn.preprocessing import StandardScaler\n",
    "scaler = StandardScaler()\n",
    "scaler.fit(X_train)\n",
    "\n",
    "X_train = scaler.transform(X_train)\n",
    "X_test = scaler.transform(X_test)"
   ]
  },
  {
   "cell_type": "code",
   "execution_count": 7,
   "metadata": {},
   "outputs": [
    {
     "data": {
      "text/plain": [
       "KNeighborsClassifier(algorithm='auto', leaf_size=30, metric='minkowski',\n",
       "                     metric_params=None, n_jobs=None, n_neighbors=5, p=2,\n",
       "                     weights='uniform')"
      ]
     },
     "execution_count": 7,
     "metadata": {},
     "output_type": "execute_result"
    }
   ],
   "source": [
    "classifier = KNeighborsClassifier()\n",
    "classifier.fit(X_train, y_train)"
   ]
  },
  {
   "cell_type": "code",
   "execution_count": 8,
   "metadata": {},
   "outputs": [
    {
     "name": "stdout",
     "output_type": "stream",
     "text": [
      "0.9978354978354979\n",
      "{'metric': 'manhattan', 'n_neighbors': 3, 'p': 1, 'weights': 'uniform'}\n",
      "KNeighborsClassifier(algorithm='auto', leaf_size=30, metric='manhattan',\n",
      "                     metric_params=None, n_jobs=None, n_neighbors=3, p=1,\n",
      "                     weights='uniform')\n"
     ]
    }
   ],
   "source": [
    "from sklearn.model_selection import GridSearchCV\n",
    "\n",
    "k_range = list(range(1,40))\n",
    "weight_options = [\"uniform\", \"distance\"]\n",
    "metric_options = [\"manhattan\",\"euclidean\", \"minkowski\"]\n",
    "p_range = list(range(1,3))\n",
    "\n",
    "param_grid = dict(n_neighbors = k_range, weights = weight_options, p = p_range)\n",
    "\n",
    "grid = GridSearchCV(classifier, param_grid, cv = 10, scoring = 'accuracy')\n",
    "grid.fit(X_train,y_train)\n",
    "\n",
    "print (grid.best_score_)\n",
    "print (grid.best_params_)\n",
    "print (grid.best_estimator_)"
   ]
  },
  {
   "cell_type": "code",
   "execution_count": 9,
   "metadata": {},
   "outputs": [],
   "source": [
    "error = []\n",
    "\n",
    "for i in range(1, 40):\n",
    "    knn = KNeighborsClassifier(n_neighbors=i, metric = 'manhattan', weights = 'uniform', p = 1)\n",
    "    knn.fit(X_train, y_train)\n",
    "    pred_i = knn.predict(X_test)\n",
    "    error.append(np.mean(pred_i != y_test))"
   ]
  },
  {
   "cell_type": "code",
   "execution_count": 10,
   "metadata": {
    "scrolled": true
   },
   "outputs": [
    {
     "data": {
      "text/plain": [
       "Text(0, 0.5, 'Mean Error')"
      ]
     },
     "execution_count": 10,
     "metadata": {},
     "output_type": "execute_result"
    },
    {
     "data": {
      "image/png": "[encoded data removed]",
      "text/plain": [
       "<Figure size 864x432 with 1 Axes>"
      ]
     },
     "metadata": {
      "needs_background": "light"
     },
     "output_type": "display_data"
    }
   ],
   "source": [
    "plt.figure(figsize=(12, 6))\n",
    "plt.plot(range(1, 40), error, color='red', linestyle='dashed', marker='o',\n",
    "         markerfacecolor='blue', markersize=10)\n",
    "plt.title('Error Rate K Value')\n",
    "plt.xlabel('K Value')\n",
    "plt.ylabel('Mean Error')"
   ]
  },
  {
   "cell_type": "code",
   "execution_count": 13,
   "metadata": {},
   "outputs": [],
   "source": [
    "classifier = KNeighborsClassifier(n_neighbors=3, metric = 'manhattan', weights = 'uniform', p = 1)\n",
    "classifier.fit(X_train, y_train)\n",
    "y_pred = classifier.predict(X_test)"
   ]
  },
  {
   "cell_type": "code",
   "execution_count": 14,
   "metadata": {},
   "outputs": [
    {
     "name": "stdout",
     "output_type": "stream",
     "text": [
      "[[397   1]\n",
      " [  0  64]]\n",
      "              precision    recall  f1-score   support\n",
      "\n",
      "           N       1.00      1.00      1.00       398\n",
      "           P       0.98      1.00      0.99        64\n",
      "\n",
      "    accuracy                           1.00       462\n",
      "   macro avg       0.99      1.00      1.00       462\n",
      "weighted avg       1.00      1.00      1.00       462\n",
      "\n"
     ]
    }
   ],
   "source": [
    "from sklearn.metrics import classification_report, confusion_matrix\n",
    "print(confusion_matrix(y_test, y_pred))\n",
    "print(classification_report(y_test, y_pred))"
   ]
  },
  {
   "cell_type": "code",
   "execution_count": null,
   "metadata": {},
   "outputs": [],
   "source": []
  }
 ],
 "metadata": {
  "kernelspec": {
   "display_name": "Python 3",
   "language": "python",
   "name": "python3"
  },
  "language_info": {
   "codemirror_mode": {
    "name": "ipython",
    "version": 3
   },
   "file_extension": ".py",
   "mimetype": "text/x-python",
   "name": "python",
   "nbconvert_exporter": "python",
   "pygments_lexer": "ipython3",
   "version": "3.7.2"
  }
 },
 "nbformat": 4,
 "nbformat_minor": 2
}
