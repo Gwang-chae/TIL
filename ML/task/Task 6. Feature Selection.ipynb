{
 "cells": [
  {
   "cell_type": "code",
   "execution_count": 1,
   "metadata": {},
   "outputs": [],
   "source": [
    "import pandas as pd\n",
    "import matplotlib.pyplot as plt\n",
    "import numpy as np"
   ]
  },
  {
   "cell_type": "code",
   "execution_count": 2,
   "metadata": {},
   "outputs": [
    {
     "data": {
      "text/html": [
       "<div>\n",
       "<style scoped>\n",
       "    .dataframe tbody tr th:only-of-type {\n",
       "        vertical-align: middle;\n",
       "    }\n",
       "\n",
       "    .dataframe tbody tr th {\n",
       "        vertical-align: top;\n",
       "    }\n",
       "\n",
       "    .dataframe thead th {\n",
       "        text-align: right;\n",
       "    }\n",
       "</style>\n",
       "<table border=\"1\" class=\"dataframe\">\n",
       "  <thead>\n",
       "    <tr style=\"text-align: right;\">\n",
       "      <th></th>\n",
       "      <th>x1</th>\n",
       "      <th>x2</th>\n",
       "      <th>x3</th>\n",
       "      <th>x4</th>\n",
       "      <th>x5</th>\n",
       "      <th>x6</th>\n",
       "      <th>x7</th>\n",
       "      <th>x8</th>\n",
       "      <th>x9</th>\n",
       "      <th>x10</th>\n",
       "      <th>...</th>\n",
       "      <th>x22</th>\n",
       "      <th>x23</th>\n",
       "      <th>x24</th>\n",
       "      <th>x25</th>\n",
       "      <th>x26</th>\n",
       "      <th>x27</th>\n",
       "      <th>x28</th>\n",
       "      <th>x29</th>\n",
       "      <th>x30</th>\n",
       "      <th>class</th>\n",
       "    </tr>\n",
       "  </thead>\n",
       "  <tbody>\n",
       "    <tr>\n",
       "      <th>0</th>\n",
       "      <td>5.409875</td>\n",
       "      <td>22.927250</td>\n",
       "      <td>-9.872094</td>\n",
       "      <td>1.978044</td>\n",
       "      <td>8.272287</td>\n",
       "      <td>-9.615210</td>\n",
       "      <td>-15.926246</td>\n",
       "      <td>0.717284</td>\n",
       "      <td>-4.492205</td>\n",
       "      <td>0.340553</td>\n",
       "      <td>...</td>\n",
       "      <td>15.299997</td>\n",
       "      <td>36.669443</td>\n",
       "      <td>36.786639</td>\n",
       "      <td>3.332443</td>\n",
       "      <td>-17.879987</td>\n",
       "      <td>15.926380</td>\n",
       "      <td>1.725497</td>\n",
       "      <td>23.504194</td>\n",
       "      <td>9.792352</td>\n",
       "      <td>N</td>\n",
       "    </tr>\n",
       "    <tr>\n",
       "      <th>1</th>\n",
       "      <td>4.126545</td>\n",
       "      <td>21.904110</td>\n",
       "      <td>-15.023121</td>\n",
       "      <td>-18.006157</td>\n",
       "      <td>9.286373</td>\n",
       "      <td>6.454027</td>\n",
       "      <td>-4.575243</td>\n",
       "      <td>-2.577147</td>\n",
       "      <td>-5.008726</td>\n",
       "      <td>0.675012</td>\n",
       "      <td>...</td>\n",
       "      <td>0.394683</td>\n",
       "      <td>19.632161</td>\n",
       "      <td>24.693643</td>\n",
       "      <td>15.046554</td>\n",
       "      <td>-10.080864</td>\n",
       "      <td>16.203368</td>\n",
       "      <td>3.024984</td>\n",
       "      <td>4.843633</td>\n",
       "      <td>11.843677</td>\n",
       "      <td>N</td>\n",
       "    </tr>\n",
       "    <tr>\n",
       "      <th>2</th>\n",
       "      <td>4.403986</td>\n",
       "      <td>22.988278</td>\n",
       "      <td>-8.681490</td>\n",
       "      <td>-13.313750</td>\n",
       "      <td>9.630441</td>\n",
       "      <td>-11.460537</td>\n",
       "      <td>-11.477227</td>\n",
       "      <td>-2.379079</td>\n",
       "      <td>-0.443103</td>\n",
       "      <td>1.215022</td>\n",
       "      <td>...</td>\n",
       "      <td>-0.333559</td>\n",
       "      <td>30.368623</td>\n",
       "      <td>29.061423</td>\n",
       "      <td>7.267859</td>\n",
       "      <td>-10.255625</td>\n",
       "      <td>16.593458</td>\n",
       "      <td>0.747861</td>\n",
       "      <td>23.694985</td>\n",
       "      <td>9.882828</td>\n",
       "      <td>N</td>\n",
       "    </tr>\n",
       "    <tr>\n",
       "      <th>3</th>\n",
       "      <td>3.935644</td>\n",
       "      <td>7.067716</td>\n",
       "      <td>-9.627175</td>\n",
       "      <td>-14.915711</td>\n",
       "      <td>13.804277</td>\n",
       "      <td>-5.872124</td>\n",
       "      <td>-12.626840</td>\n",
       "      <td>0.243053</td>\n",
       "      <td>-2.340807</td>\n",
       "      <td>0.769241</td>\n",
       "      <td>...</td>\n",
       "      <td>3.227280</td>\n",
       "      <td>20.739104</td>\n",
       "      <td>21.363254</td>\n",
       "      <td>-1.755453</td>\n",
       "      <td>-16.364006</td>\n",
       "      <td>17.042786</td>\n",
       "      <td>1.920244</td>\n",
       "      <td>0.600049</td>\n",
       "      <td>10.090662</td>\n",
       "      <td>N</td>\n",
       "    </tr>\n",
       "    <tr>\n",
       "      <th>4</th>\n",
       "      <td>4.210392</td>\n",
       "      <td>21.874668</td>\n",
       "      <td>-14.244560</td>\n",
       "      <td>-21.684349</td>\n",
       "      <td>8.088974</td>\n",
       "      <td>6.543087</td>\n",
       "      <td>-1.746851</td>\n",
       "      <td>-0.956112</td>\n",
       "      <td>-2.735903</td>\n",
       "      <td>1.184741</td>\n",
       "      <td>...</td>\n",
       "      <td>2.384255</td>\n",
       "      <td>25.897681</td>\n",
       "      <td>22.521317</td>\n",
       "      <td>0.198194</td>\n",
       "      <td>-10.711563</td>\n",
       "      <td>21.212732</td>\n",
       "      <td>2.226788</td>\n",
       "      <td>13.541937</td>\n",
       "      <td>7.420688</td>\n",
       "      <td>N</td>\n",
       "    </tr>\n",
       "  </tbody>\n",
       "</table>\n",
       "<p>5 rows × 31 columns</p>\n",
       "</div>"
      ],
      "text/plain": [
       "         x1         x2         x3         x4         x5         x6         x7  \\\n",
       "0  5.409875  22.927250  -9.872094   1.978044   8.272287  -9.615210 -15.926246   \n",
       "1  4.126545  21.904110 -15.023121 -18.006157   9.286373   6.454027  -4.575243   \n",
       "2  4.403986  22.988278  -8.681490 -13.313750   9.630441 -11.460537 -11.477227   \n",
       "3  3.935644   7.067716  -9.627175 -14.915711  13.804277  -5.872124 -12.626840   \n",
       "4  4.210392  21.874668 -14.244560 -21.684349   8.088974   6.543087  -1.746851   \n",
       "\n",
       "         x8        x9       x10  ...        x22        x23        x24  \\\n",
       "0  0.717284 -4.492205  0.340553  ...  15.299997  36.669443  36.786639   \n",
       "1 -2.577147 -5.008726  0.675012  ...   0.394683  19.632161  24.693643   \n",
       "2 -2.379079 -0.443103  1.215022  ...  -0.333559  30.368623  29.061423   \n",
       "3  0.243053 -2.340807  0.769241  ...   3.227280  20.739104  21.363254   \n",
       "4 -0.956112 -2.735903  1.184741  ...   2.384255  25.897681  22.521317   \n",
       "\n",
       "         x25        x26        x27       x28        x29        x30  class  \n",
       "0   3.332443 -17.879987  15.926380  1.725497  23.504194   9.792352      N  \n",
       "1  15.046554 -10.080864  16.203368  3.024984   4.843633  11.843677      N  \n",
       "2   7.267859 -10.255625  16.593458  0.747861  23.694985   9.882828      N  \n",
       "3  -1.755453 -16.364006  17.042786  1.920244   0.600049  10.090662      N  \n",
       "4   0.198194 -10.711563  21.212732  2.226788  13.541937   7.420688      N  \n",
       "\n",
       "[5 rows x 31 columns]"
      ]
     },
     "execution_count": 2,
     "metadata": {},
     "output_type": "execute_result"
    }
   ],
   "source": [
    "data = pd.read_csv('C:/Users/user/Desktop/강의/ML/fs.csv')\n",
    "data.head()"
   ]
  },
  {
   "cell_type": "code",
   "execution_count": 3,
   "metadata": {},
   "outputs": [
    {
     "data": {
      "text/plain": [
       "(200, 30)"
      ]
     },
     "execution_count": 3,
     "metadata": {},
     "output_type": "execute_result"
    }
   ],
   "source": [
    "#convert labels to numbers\n",
    "data.loc[data['class'] == \"P\", \"class\"] = 1\n",
    "data.loc[data['class'] == \"N\", \"class\"] = -1\n",
    "\n",
    "X = data.iloc[:,:-1].values\n",
    "y = data.iloc[:,30].values\n",
    "X.shape"
   ]
  },
  {
   "cell_type": "code",
   "execution_count": 4,
   "metadata": {},
   "outputs": [],
   "source": [
    "#SelectKBest(score function=f_classif, k=110)\n",
    "from sklearn.feature_selection import SelectKBest\n",
    "from sklearn.feature_selection import f_classif\n",
    "X_KBest = SelectKBest(f_classif, k=10).fit(X, y)\n",
    "X_K = X_KBest.transform(X)\n",
    "#print(X_K)"
   ]
  },
  {
   "cell_type": "code",
   "execution_count": 5,
   "metadata": {
    "scrolled": true
   },
   "outputs": [
    {
     "name": "stdout",
     "output_type": "stream",
     "text": [
      "[[-2.90800091 -0.0459404  -0.03852543  0.03903388  0.02929327  0.13338785\n",
      "  -0.05378794  0.10591863  0.0988114  -0.39640194 -1.02024089  0.06200964\n",
      "  -0.08303811  0.07540627 -0.13658912  0.03987002  0.54302575  0.01916199\n",
      "  -0.04311926  0.01841963 -0.06715817  0.03206077 -0.04667232  0.10146356\n",
      "   0.04172387  0.00794671 -0.01111146  0.12954709  0.04451738 -0.00830897]]\n",
      "0.2126830876131716\n"
     ]
    },
    {
     "name": "stderr",
     "output_type": "stream",
     "text": [
      "c:\\users\\user\\appdata\\local\\programs\\python\\python37\\lib\\site-packages\\sklearn\\linear_model\\logistic.py:432: FutureWarning: Default solver will be changed to 'lbfgs' in 0.22. Specify a solver to silence this warning.\n",
      "  FutureWarning)\n"
     ]
    }
   ],
   "source": [
    "#SelectFromModel(estimator=logisticregression)\n",
    "from sklearn.feature_selection import SelectFromModel\n",
    "from sklearn.linear_model import LogisticRegression\n",
    "\n",
    "selector = SelectFromModel(estimator=LogisticRegression()).fit(X, y)\n",
    "X_S = selector.transform(X)\n",
    "print(selector.estimator_.coef_)\n",
    "print(selector.threshold_)\n",
    "#print(selector.get_support())\n",
    "#print(selector.transform(X))\n",
    "#print(X_S)"
   ]
  },
  {
   "cell_type": "code",
   "execution_count": 6,
   "metadata": {},
   "outputs": [],
   "source": [
    "#models to measure feature selection's effect\n",
    "\n",
    "from sklearn.tree import DecisionTreeClassifier\n",
    "tree = DecisionTreeClassifier()\n",
    "\n",
    "from sklearn.neighbors import KNeighborsClassifier\n",
    "kneigh = KNeighborsClassifier()\n",
    "\n",
    "from sklearn.svm import SVC\n",
    "svm = SVC(kernel='linear')"
   ]
  },
  {
   "cell_type": "code",
   "execution_count": 7,
   "metadata": {},
   "outputs": [
    {
     "data": {
      "text/plain": [
       "Text(0, 0.5, 'f1-score')"
      ]
     },
     "execution_count": 7,
     "metadata": {},
     "output_type": "execute_result"
    },
    {
     "data": {
      "image/png": "[encoded data removed]",
      "text/plain": [
       "<Figure size 432x288 with 1 Axes>"
      ]
     },
     "metadata": {
      "needs_background": "light"
     },
     "output_type": "display_data"
    },
    {
     "data": {
      "text/plain": [
       "<Figure size 864x432 with 0 Axes>"
      ]
     },
     "metadata": {},
     "output_type": "display_data"
    }
   ],
   "source": [
    "#Plot according to K of KBest\n",
    "\n",
    "import sklearn.metrics as metrics\n",
    "from sklearn.metrics import f1_score\n",
    "from sklearn.model_selection import train_test_split\n",
    "\n",
    "ax = plt.subplot()\n",
    "\n",
    "tree_score_list = []\n",
    "kneigh_score_list = []\n",
    "svm_score_list = []\n",
    "\n",
    "for i in range(1,31):\n",
    "    X_KBest = SelectKBest(f_classif, k=i).fit(X, y)\n",
    "    X_K = X_KBest.transform(X)\n",
    "    X_train_K, X_test_K, y_train_K, y_test_K = train_test_split(X_K, y, test_size=0.21, random_state=42)\n",
    "    tree.fit(X_train_K,y_train_K)\n",
    "    kneigh.fit(X_train_K,y_train_K)\n",
    "    svm.fit(X_train_K,y_train_K)\n",
    "    pred_tree = tree.predict(X_test_K)\n",
    "    pred_kneigh = kneigh.predict(X_test_K)\n",
    "    pred_svm = svm.predict(X_test_K)\n",
    "    tree_score = f1_score(y_test_K, pred_tree, average = 'weighted')\n",
    "    kneigh_score = f1_score(y_test_K, pred_kneigh, average = 'weighted')\n",
    "    svm_score = f1_score(y_test_K, pred_svm, average = 'weighted')\n",
    "    tree_score_list.append(tree_score)\n",
    "    kneigh_score_list.append(kneigh_score)\n",
    "    svm_score_list.append(svm_score)\n",
    "    \n",
    "fig = plt.figure(figsize=(12, 6))\n",
    "#plot tree\n",
    "ax.plot(range(1,31), tree_score_list, color='red')\n",
    "#plot kneigh\n",
    "ax.plot(range(1,31), kneigh_score_list, color='blue')\n",
    "#plot svm\n",
    "ax.plot(range(1,31), svm_score_list, color='green')\n",
    "\n",
    "ax.set_title('The Dependence of Quality', fontsize = 20)\n",
    "ax.set_xlabel('K-range', fontsize = 14)\n",
    "ax.set_ylabel('f1-score', fontsize = 14)"
   ]
  },
  {
   "cell_type": "code",
   "execution_count": 8,
   "metadata": {},
   "outputs": [
    {
     "name": "stderr",
     "output_type": "stream",
     "text": [
      "c:\\users\\user\\appdata\\local\\programs\\python\\python37\\lib\\site-packages\\sklearn\\linear_model\\logistic.py:432: FutureWarning: Default solver will be changed to 'lbfgs' in 0.22. Specify a solver to silence this warning.\n",
      "  FutureWarning)\n",
      "c:\\users\\user\\appdata\\local\\programs\\python\\python37\\lib\\site-packages\\sklearn\\linear_model\\logistic.py:432: FutureWarning: Default solver will be changed to 'lbfgs' in 0.22. Specify a solver to silence this warning.\n",
      "  FutureWarning)\n",
      "c:\\users\\user\\appdata\\local\\programs\\python\\python37\\lib\\site-packages\\sklearn\\linear_model\\logistic.py:432: FutureWarning: Default solver will be changed to 'lbfgs' in 0.22. Specify a solver to silence this warning.\n",
      "  FutureWarning)\n",
      "c:\\users\\user\\appdata\\local\\programs\\python\\python37\\lib\\site-packages\\sklearn\\linear_model\\logistic.py:432: FutureWarning: Default solver will be changed to 'lbfgs' in 0.22. Specify a solver to silence this warning.\n",
      "  FutureWarning)\n",
      "c:\\users\\user\\appdata\\local\\programs\\python\\python37\\lib\\site-packages\\sklearn\\linear_model\\logistic.py:432: FutureWarning: Default solver will be changed to 'lbfgs' in 0.22. Specify a solver to silence this warning.\n",
      "  FutureWarning)\n",
      "c:\\users\\user\\appdata\\local\\programs\\python\\python37\\lib\\site-packages\\sklearn\\linear_model\\logistic.py:432: FutureWarning: Default solver will be changed to 'lbfgs' in 0.22. Specify a solver to silence this warning.\n",
      "  FutureWarning)\n",
      "c:\\users\\user\\appdata\\local\\programs\\python\\python37\\lib\\site-packages\\sklearn\\linear_model\\logistic.py:432: FutureWarning: Default solver will be changed to 'lbfgs' in 0.22. Specify a solver to silence this warning.\n",
      "  FutureWarning)\n",
      "c:\\users\\user\\appdata\\local\\programs\\python\\python37\\lib\\site-packages\\sklearn\\linear_model\\logistic.py:432: FutureWarning: Default solver will be changed to 'lbfgs' in 0.22. Specify a solver to silence this warning.\n",
      "  FutureWarning)\n",
      "c:\\users\\user\\appdata\\local\\programs\\python\\python37\\lib\\site-packages\\sklearn\\linear_model\\logistic.py:432: FutureWarning: Default solver will be changed to 'lbfgs' in 0.22. Specify a solver to silence this warning.\n",
      "  FutureWarning)\n",
      "c:\\users\\user\\appdata\\local\\programs\\python\\python37\\lib\\site-packages\\sklearn\\linear_model\\logistic.py:432: FutureWarning: Default solver will be changed to 'lbfgs' in 0.22. Specify a solver to silence this warning.\n",
      "  FutureWarning)\n",
      "c:\\users\\user\\appdata\\local\\programs\\python\\python37\\lib\\site-packages\\sklearn\\linear_model\\logistic.py:432: FutureWarning: Default solver will be changed to 'lbfgs' in 0.22. Specify a solver to silence this warning.\n",
      "  FutureWarning)\n",
      "c:\\users\\user\\appdata\\local\\programs\\python\\python37\\lib\\site-packages\\sklearn\\linear_model\\logistic.py:432: FutureWarning: Default solver will be changed to 'lbfgs' in 0.22. Specify a solver to silence this warning.\n",
      "  FutureWarning)\n",
      "c:\\users\\user\\appdata\\local\\programs\\python\\python37\\lib\\site-packages\\sklearn\\linear_model\\logistic.py:432: FutureWarning: Default solver will be changed to 'lbfgs' in 0.22. Specify a solver to silence this warning.\n",
      "  FutureWarning)\n",
      "c:\\users\\user\\appdata\\local\\programs\\python\\python37\\lib\\site-packages\\sklearn\\linear_model\\logistic.py:432: FutureWarning: Default solver will be changed to 'lbfgs' in 0.22. Specify a solver to silence this warning.\n",
      "  FutureWarning)\n",
      "c:\\users\\user\\appdata\\local\\programs\\python\\python37\\lib\\site-packages\\sklearn\\linear_model\\logistic.py:432: FutureWarning: Default solver will be changed to 'lbfgs' in 0.22. Specify a solver to silence this warning.\n",
      "  FutureWarning)\n",
      "c:\\users\\user\\appdata\\local\\programs\\python\\python37\\lib\\site-packages\\sklearn\\linear_model\\logistic.py:432: FutureWarning: Default solver will be changed to 'lbfgs' in 0.22. Specify a solver to silence this warning.\n",
      "  FutureWarning)\n",
      "c:\\users\\user\\appdata\\local\\programs\\python\\python37\\lib\\site-packages\\sklearn\\linear_model\\logistic.py:432: FutureWarning: Default solver will be changed to 'lbfgs' in 0.22. Specify a solver to silence this warning.\n",
      "  FutureWarning)\n",
      "c:\\users\\user\\appdata\\local\\programs\\python\\python37\\lib\\site-packages\\sklearn\\linear_model\\logistic.py:432: FutureWarning: Default solver will be changed to 'lbfgs' in 0.22. Specify a solver to silence this warning.\n",
      "  FutureWarning)\n",
      "c:\\users\\user\\appdata\\local\\programs\\python\\python37\\lib\\site-packages\\sklearn\\linear_model\\logistic.py:432: FutureWarning: Default solver will be changed to 'lbfgs' in 0.22. Specify a solver to silence this warning.\n",
      "  FutureWarning)\n",
      "c:\\users\\user\\appdata\\local\\programs\\python\\python37\\lib\\site-packages\\sklearn\\linear_model\\logistic.py:432: FutureWarning: Default solver will be changed to 'lbfgs' in 0.22. Specify a solver to silence this warning.\n",
      "  FutureWarning)\n",
      "c:\\users\\user\\appdata\\local\\programs\\python\\python37\\lib\\site-packages\\sklearn\\linear_model\\logistic.py:432: FutureWarning: Default solver will be changed to 'lbfgs' in 0.22. Specify a solver to silence this warning.\n",
      "  FutureWarning)\n",
      "c:\\users\\user\\appdata\\local\\programs\\python\\python37\\lib\\site-packages\\sklearn\\linear_model\\logistic.py:432: FutureWarning: Default solver will be changed to 'lbfgs' in 0.22. Specify a solver to silence this warning.\n",
      "  FutureWarning)\n",
      "c:\\users\\user\\appdata\\local\\programs\\python\\python37\\lib\\site-packages\\sklearn\\linear_model\\logistic.py:432: FutureWarning: Default solver will be changed to 'lbfgs' in 0.22. Specify a solver to silence this warning.\n",
      "  FutureWarning)\n",
      "c:\\users\\user\\appdata\\local\\programs\\python\\python37\\lib\\site-packages\\sklearn\\linear_model\\logistic.py:432: FutureWarning: Default solver will be changed to 'lbfgs' in 0.22. Specify a solver to silence this warning.\n",
      "  FutureWarning)\n",
      "c:\\users\\user\\appdata\\local\\programs\\python\\python37\\lib\\site-packages\\sklearn\\linear_model\\logistic.py:432: FutureWarning: Default solver will be changed to 'lbfgs' in 0.22. Specify a solver to silence this warning.\n",
      "  FutureWarning)\n",
      "c:\\users\\user\\appdata\\local\\programs\\python\\python37\\lib\\site-packages\\sklearn\\linear_model\\logistic.py:432: FutureWarning: Default solver will be changed to 'lbfgs' in 0.22. Specify a solver to silence this warning.\n",
      "  FutureWarning)\n",
      "c:\\users\\user\\appdata\\local\\programs\\python\\python37\\lib\\site-packages\\sklearn\\linear_model\\logistic.py:432: FutureWarning: Default solver will be changed to 'lbfgs' in 0.22. Specify a solver to silence this warning.\n",
      "  FutureWarning)\n",
      "c:\\users\\user\\appdata\\local\\programs\\python\\python37\\lib\\site-packages\\sklearn\\linear_model\\logistic.py:432: FutureWarning: Default solver will be changed to 'lbfgs' in 0.22. Specify a solver to silence this warning.\n",
      "  FutureWarning)\n",
      "c:\\users\\user\\appdata\\local\\programs\\python\\python37\\lib\\site-packages\\sklearn\\linear_model\\logistic.py:432: FutureWarning: Default solver will be changed to 'lbfgs' in 0.22. Specify a solver to silence this warning.\n",
      "  FutureWarning)\n",
      "c:\\users\\user\\appdata\\local\\programs\\python\\python37\\lib\\site-packages\\sklearn\\linear_model\\logistic.py:432: FutureWarning: Default solver will be changed to 'lbfgs' in 0.22. Specify a solver to silence this warning.\n",
      "  FutureWarning)\n",
      "c:\\users\\user\\appdata\\local\\programs\\python\\python37\\lib\\site-packages\\sklearn\\linear_model\\logistic.py:432: FutureWarning: Default solver will be changed to 'lbfgs' in 0.22. Specify a solver to silence this warning.\n",
      "  FutureWarning)\n",
      "c:\\users\\user\\appdata\\local\\programs\\python\\python37\\lib\\site-packages\\sklearn\\linear_model\\logistic.py:432: FutureWarning: Default solver will be changed to 'lbfgs' in 0.22. Specify a solver to silence this warning.\n",
      "  FutureWarning)\n",
      "c:\\users\\user\\appdata\\local\\programs\\python\\python37\\lib\\site-packages\\sklearn\\linear_model\\logistic.py:432: FutureWarning: Default solver will be changed to 'lbfgs' in 0.22. Specify a solver to silence this warning.\n",
      "  FutureWarning)\n",
      "c:\\users\\user\\appdata\\local\\programs\\python\\python37\\lib\\site-packages\\sklearn\\linear_model\\logistic.py:432: FutureWarning: Default solver will be changed to 'lbfgs' in 0.22. Specify a solver to silence this warning.\n",
      "  FutureWarning)\n",
      "c:\\users\\user\\appdata\\local\\programs\\python\\python37\\lib\\site-packages\\sklearn\\linear_model\\logistic.py:432: FutureWarning: Default solver will be changed to 'lbfgs' in 0.22. Specify a solver to silence this warning.\n",
      "  FutureWarning)\n",
      "c:\\users\\user\\appdata\\local\\programs\\python\\python37\\lib\\site-packages\\sklearn\\linear_model\\logistic.py:432: FutureWarning: Default solver will be changed to 'lbfgs' in 0.22. Specify a solver to silence this warning.\n",
      "  FutureWarning)\n",
      "c:\\users\\user\\appdata\\local\\programs\\python\\python37\\lib\\site-packages\\sklearn\\linear_model\\logistic.py:432: FutureWarning: Default solver will be changed to 'lbfgs' in 0.22. Specify a solver to silence this warning.\n",
      "  FutureWarning)\n",
      "c:\\users\\user\\appdata\\local\\programs\\python\\python37\\lib\\site-packages\\sklearn\\linear_model\\logistic.py:432: FutureWarning: Default solver will be changed to 'lbfgs' in 0.22. Specify a solver to silence this warning.\n",
      "  FutureWarning)\n",
      "c:\\users\\user\\appdata\\local\\programs\\python\\python37\\lib\\site-packages\\sklearn\\linear_model\\logistic.py:432: FutureWarning: Default solver will be changed to 'lbfgs' in 0.22. Specify a solver to silence this warning.\n",
      "  FutureWarning)\n"
     ]
    },
    {
     "name": "stderr",
     "output_type": "stream",
     "text": [
      "c:\\users\\user\\appdata\\local\\programs\\python\\python37\\lib\\site-packages\\sklearn\\linear_model\\logistic.py:432: FutureWarning: Default solver will be changed to 'lbfgs' in 0.22. Specify a solver to silence this warning.\n",
      "  FutureWarning)\n",
      "c:\\users\\user\\appdata\\local\\programs\\python\\python37\\lib\\site-packages\\sklearn\\linear_model\\logistic.py:432: FutureWarning: Default solver will be changed to 'lbfgs' in 0.22. Specify a solver to silence this warning.\n",
      "  FutureWarning)\n",
      "c:\\users\\user\\appdata\\local\\programs\\python\\python37\\lib\\site-packages\\sklearn\\linear_model\\logistic.py:432: FutureWarning: Default solver will be changed to 'lbfgs' in 0.22. Specify a solver to silence this warning.\n",
      "  FutureWarning)\n",
      "c:\\users\\user\\appdata\\local\\programs\\python\\python37\\lib\\site-packages\\sklearn\\linear_model\\logistic.py:432: FutureWarning: Default solver will be changed to 'lbfgs' in 0.22. Specify a solver to silence this warning.\n",
      "  FutureWarning)\n",
      "c:\\users\\user\\appdata\\local\\programs\\python\\python37\\lib\\site-packages\\sklearn\\linear_model\\logistic.py:432: FutureWarning: Default solver will be changed to 'lbfgs' in 0.22. Specify a solver to silence this warning.\n",
      "  FutureWarning)\n",
      "c:\\users\\user\\appdata\\local\\programs\\python\\python37\\lib\\site-packages\\sklearn\\linear_model\\logistic.py:432: FutureWarning: Default solver will be changed to 'lbfgs' in 0.22. Specify a solver to silence this warning.\n",
      "  FutureWarning)\n",
      "c:\\users\\user\\appdata\\local\\programs\\python\\python37\\lib\\site-packages\\sklearn\\linear_model\\logistic.py:432: FutureWarning: Default solver will be changed to 'lbfgs' in 0.22. Specify a solver to silence this warning.\n",
      "  FutureWarning)\n",
      "c:\\users\\user\\appdata\\local\\programs\\python\\python37\\lib\\site-packages\\sklearn\\linear_model\\logistic.py:432: FutureWarning: Default solver will be changed to 'lbfgs' in 0.22. Specify a solver to silence this warning.\n",
      "  FutureWarning)\n",
      "c:\\users\\user\\appdata\\local\\programs\\python\\python37\\lib\\site-packages\\sklearn\\linear_model\\logistic.py:432: FutureWarning: Default solver will be changed to 'lbfgs' in 0.22. Specify a solver to silence this warning.\n",
      "  FutureWarning)\n",
      "c:\\users\\user\\appdata\\local\\programs\\python\\python37\\lib\\site-packages\\sklearn\\linear_model\\logistic.py:432: FutureWarning: Default solver will be changed to 'lbfgs' in 0.22. Specify a solver to silence this warning.\n",
      "  FutureWarning)\n",
      "c:\\users\\user\\appdata\\local\\programs\\python\\python37\\lib\\site-packages\\sklearn\\linear_model\\logistic.py:432: FutureWarning: Default solver will be changed to 'lbfgs' in 0.22. Specify a solver to silence this warning.\n",
      "  FutureWarning)\n"
     ]
    },
    {
     "data": {
      "text/plain": [
       "Text(0, 0.5, 'f1-score')"
      ]
     },
     "execution_count": 8,
     "metadata": {},
     "output_type": "execute_result"
    },
    {
     "data": {
      "image/png": "[encoded data removed]",
      "text/plain": [
       "<Figure size 432x288 with 1 Axes>"
      ]
     },
     "metadata": {
      "needs_background": "light"
     },
     "output_type": "display_data"
    },
    {
     "data": {
      "text/plain": [
       "<Figure size 864x432 with 0 Axes>"
      ]
     },
     "metadata": {},
     "output_type": "display_data"
    }
   ],
   "source": [
    "#Plot according to threshold of Selectfrommodel\n",
    "\n",
    "import sklearn.metrics as metrics\n",
    "from sklearn.metrics import f1_score\n",
    "\n",
    "ax = plt.subplot()\n",
    "\n",
    "tree_score_list = []\n",
    "kneigh_score_list = []\n",
    "svm_score_list = []\n",
    "\n",
    "for i in np.linspace(0.0001,2):\n",
    "    selector = SelectFromModel(estimator=LogisticRegression(), threshold = i).fit(X, y)\n",
    "    X_S = selector.transform(X)\n",
    "    X_train_S, X_test_S, y_train_S, y_test_S = train_test_split(X_S, y, test_size=0.21, random_state=42)\n",
    "    tree.fit(X_train_S,y_train_S)\n",
    "    kneigh.fit(X_train_S,y_train_S)\n",
    "    svm.fit(X_train_S,y_train_S)\n",
    "    pred_tree = tree.predict(X_test_S)\n",
    "    pred_kneigh = kneigh.predict(X_test_S)\n",
    "    pred_svm = svm.predict(X_test_S)\n",
    "\n",
    "    \n",
    "    tree_score = f1_score(y_test_S, pred_tree.round(), average = 'weighted')\n",
    "    kneigh_score = f1_score(y_test_S, pred_kneigh.round(), average = 'weighted')\n",
    "    svm_score = f1_score(y_test_S, pred_svm.round(), average = 'weighted')\n",
    "    \n",
    "    \n",
    "    tree_score_list.append(tree_score)\n",
    "    kneigh_score_list.append(kneigh_score)\n",
    "    svm_score_list.append(svm_score)\n",
    "    \n",
    "fig = plt.figure(figsize=(12, 6))\n",
    "#plot tree\n",
    "ax.plot(np.linspace(0.0001,2), tree_score_list, color='red')\n",
    "#plot kneigh\n",
    "ax.plot(np.linspace(0.0001,2), kneigh_score_list, color='blue')\n",
    "#plot svm\n",
    "ax.plot(np.linspace(0.0001,2), svm_score_list, color='green')\n",
    "ax.set_xlim([2,0.0001])\n",
    "ax.set_title('The Dependence of Quality', fontsize = 20)\n",
    "ax.set_xlabel('threshold', fontsize = 14)\n",
    "ax.set_ylabel('f1-score', fontsize = 14)\n",
    "    "
   ]
  },
  {
   "cell_type": "code",
   "execution_count": null,
   "metadata": {},
   "outputs": [],
   "source": []
  }
 ],
 "metadata": {
  "kernelspec": {
   "display_name": "Python 3",
   "language": "python",
   "name": "python3"
  },
  "language_info": {
   "codemirror_mode": {
    "name": "ipython",
    "version": 3
   },
   "file_extension": ".py",
   "mimetype": "text/x-python",
   "name": "python",
   "nbconvert_exporter": "python",
   "pygments_lexer": "ipython3",
   "version": "3.7.2"
  }
 },
 "nbformat": 4,
 "nbformat_minor": 2
}
