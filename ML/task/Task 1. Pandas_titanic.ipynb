{
 "cells": [
  {
   "cell_type": "markdown",
   "metadata": {},
   "source": [
    "# Basic libraries for data analisis. Math in machine learning"
   ]
  },
  {
   "cell_type": "markdown",
   "metadata": {},
   "source": [
    "## Practical task. Analisys of \"Titanic\" passengers"
   ]
  },
  {
   "cell_type": "code",
   "execution_count": 1,
   "metadata": {},
   "outputs": [
    {
     "name": "stdout",
     "output_type": "stream",
     "text": [
      "Populating the interactive namespace from numpy and matplotlib\n"
     ]
    }
   ],
   "source": [
    "%pylab inline\n",
    "import seaborn as sns\n",
    "import pandas as pd"
   ]
  },
  {
   "cell_type": "markdown",
   "metadata": {},
   "source": [
    "Read from file to Pandas.DataFrame object"
   ]
  },
  {
   "cell_type": "code",
   "execution_count": 2,
   "metadata": {},
   "outputs": [],
   "source": [
    "data = pd.read_csv('C:/Users/user/Downloads/titanic.csv')"
   ]
  },
  {
   "cell_type": "markdown",
   "metadata": {},
   "source": [
    "**The first 5 rows of the table:**"
   ]
  },
  {
   "cell_type": "code",
   "execution_count": 3,
   "metadata": {},
   "outputs": [
    {
     "data": {
      "text/html": [
       "<div>\n",
       "<style scoped>\n",
       "    .dataframe tbody tr th:only-of-type {\n",
       "        vertical-align: middle;\n",
       "    }\n",
       "\n",
       "    .dataframe tbody tr th {\n",
       "        vertical-align: top;\n",
       "    }\n",
       "\n",
       "    .dataframe thead th {\n",
       "        text-align: right;\n",
       "    }\n",
       "</style>\n",
       "<table border=\"1\" class=\"dataframe\">\n",
       "  <thead>\n",
       "    <tr style=\"text-align: right;\">\n",
       "      <th></th>\n",
       "      <th>PassengerId</th>\n",
       "      <th>Survived</th>\n",
       "      <th>Pclass</th>\n",
       "      <th>Name</th>\n",
       "      <th>Sex</th>\n",
       "      <th>Age</th>\n",
       "      <th>SibSp</th>\n",
       "      <th>Parch</th>\n",
       "      <th>Ticket</th>\n",
       "      <th>Fare</th>\n",
       "      <th>Cabin</th>\n",
       "      <th>Embarked</th>\n",
       "    </tr>\n",
       "  </thead>\n",
       "  <tbody>\n",
       "    <tr>\n",
       "      <th>0</th>\n",
       "      <td>1</td>\n",
       "      <td>0</td>\n",
       "      <td>3</td>\n",
       "      <td>Braund, Mr. Owen Harris</td>\n",
       "      <td>male</td>\n",
       "      <td>22.0</td>\n",
       "      <td>1</td>\n",
       "      <td>0</td>\n",
       "      <td>A/5 21171</td>\n",
       "      <td>7.2500</td>\n",
       "      <td>NaN</td>\n",
       "      <td>S</td>\n",
       "    </tr>\n",
       "    <tr>\n",
       "      <th>1</th>\n",
       "      <td>2</td>\n",
       "      <td>1</td>\n",
       "      <td>1</td>\n",
       "      <td>Cumings, Mrs. John Bradley (Florence Briggs Th...</td>\n",
       "      <td>female</td>\n",
       "      <td>38.0</td>\n",
       "      <td>1</td>\n",
       "      <td>0</td>\n",
       "      <td>PC 17599</td>\n",
       "      <td>71.2833</td>\n",
       "      <td>C85</td>\n",
       "      <td>C</td>\n",
       "    </tr>\n",
       "    <tr>\n",
       "      <th>2</th>\n",
       "      <td>3</td>\n",
       "      <td>1</td>\n",
       "      <td>3</td>\n",
       "      <td>Heikkinen, Miss. Laina</td>\n",
       "      <td>female</td>\n",
       "      <td>26.0</td>\n",
       "      <td>0</td>\n",
       "      <td>0</td>\n",
       "      <td>STON/O2. 3101282</td>\n",
       "      <td>7.9250</td>\n",
       "      <td>NaN</td>\n",
       "      <td>S</td>\n",
       "    </tr>\n",
       "    <tr>\n",
       "      <th>3</th>\n",
       "      <td>4</td>\n",
       "      <td>1</td>\n",
       "      <td>1</td>\n",
       "      <td>Futrelle, Mrs. Jacques Heath (Lily May Peel)</td>\n",
       "      <td>female</td>\n",
       "      <td>35.0</td>\n",
       "      <td>1</td>\n",
       "      <td>0</td>\n",
       "      <td>113803</td>\n",
       "      <td>53.1000</td>\n",
       "      <td>C123</td>\n",
       "      <td>S</td>\n",
       "    </tr>\n",
       "    <tr>\n",
       "      <th>4</th>\n",
       "      <td>5</td>\n",
       "      <td>0</td>\n",
       "      <td>3</td>\n",
       "      <td>Allen, Mr. William Henry</td>\n",
       "      <td>male</td>\n",
       "      <td>35.0</td>\n",
       "      <td>0</td>\n",
       "      <td>0</td>\n",
       "      <td>373450</td>\n",
       "      <td>8.0500</td>\n",
       "      <td>NaN</td>\n",
       "      <td>S</td>\n",
       "    </tr>\n",
       "  </tbody>\n",
       "</table>\n",
       "</div>"
      ],
      "text/plain": [
       "   PassengerId  Survived  Pclass  \\\n",
       "0            1         0       3   \n",
       "1            2         1       1   \n",
       "2            3         1       3   \n",
       "3            4         1       1   \n",
       "4            5         0       3   \n",
       "\n",
       "                                                Name     Sex   Age  SibSp  \\\n",
       "0                            Braund, Mr. Owen Harris    male  22.0      1   \n",
       "1  Cumings, Mrs. John Bradley (Florence Briggs Th...  female  38.0      1   \n",
       "2                             Heikkinen, Miss. Laina  female  26.0      0   \n",
       "3       Futrelle, Mrs. Jacques Heath (Lily May Peel)  female  35.0      1   \n",
       "4                           Allen, Mr. William Henry    male  35.0      0   \n",
       "\n",
       "   Parch            Ticket     Fare Cabin Embarked  \n",
       "0      0         A/5 21171   7.2500   NaN        S  \n",
       "1      0          PC 17599  71.2833   C85        C  \n",
       "2      0  STON/O2. 3101282   7.9250   NaN        S  \n",
       "3      0            113803  53.1000  C123        S  \n",
       "4      0            373450   8.0500   NaN        S  "
      ]
     },
     "execution_count": 3,
     "metadata": {},
     "output_type": "execute_result"
    }
   ],
   "source": [
    "data.head(5)"
   ]
  },
  {
   "cell_type": "markdown",
   "metadata": {},
   "source": [
    "**Consider first 10 elements of Parch column - ammount of parents and children on board:**"
   ]
  },
  {
   "cell_type": "code",
   "execution_count": 4,
   "metadata": {},
   "outputs": [
    {
     "data": {
      "text/plain": [
       "0    0\n",
       "1    0\n",
       "2    0\n",
       "3    0\n",
       "4    0\n",
       "5    0\n",
       "6    0\n",
       "7    1\n",
       "8    2\n",
       "9    0\n",
       "Name: Parch, dtype: int64"
      ]
     },
     "execution_count": 4,
     "metadata": {},
     "output_type": "execute_result"
    }
   ],
   "source": [
    "data['Parch'][:10]"
   ]
  },
  {
   "cell_type": "markdown",
   "metadata": {},
   "source": [
    "**Choose passengers, who were shipping in Cherbourg (Embarked=C) and paid fare > 200.**"
   ]
  },
  {
   "cell_type": "code",
   "execution_count": 5,
   "metadata": {},
   "outputs": [
    {
     "data": {
      "text/html": [
       "<div>\n",
       "<style scoped>\n",
       "    .dataframe tbody tr th:only-of-type {\n",
       "        vertical-align: middle;\n",
       "    }\n",
       "\n",
       "    .dataframe tbody tr th {\n",
       "        vertical-align: top;\n",
       "    }\n",
       "\n",
       "    .dataframe thead th {\n",
       "        text-align: right;\n",
       "    }\n",
       "</style>\n",
       "<table border=\"1\" class=\"dataframe\">\n",
       "  <thead>\n",
       "    <tr style=\"text-align: right;\">\n",
       "      <th></th>\n",
       "      <th>PassengerId</th>\n",
       "      <th>Survived</th>\n",
       "      <th>Pclass</th>\n",
       "      <th>Name</th>\n",
       "      <th>Sex</th>\n",
       "      <th>Age</th>\n",
       "      <th>SibSp</th>\n",
       "      <th>Parch</th>\n",
       "      <th>Ticket</th>\n",
       "      <th>Fare</th>\n",
       "      <th>Cabin</th>\n",
       "      <th>Embarked</th>\n",
       "    </tr>\n",
       "  </thead>\n",
       "  <tbody>\n",
       "    <tr>\n",
       "      <th>118</th>\n",
       "      <td>119</td>\n",
       "      <td>0</td>\n",
       "      <td>1</td>\n",
       "      <td>Baxter, Mr. Quigg Edmond</td>\n",
       "      <td>male</td>\n",
       "      <td>24.0</td>\n",
       "      <td>0</td>\n",
       "      <td>1</td>\n",
       "      <td>PC 17558</td>\n",
       "      <td>247.5208</td>\n",
       "      <td>B58 B60</td>\n",
       "      <td>C</td>\n",
       "    </tr>\n",
       "    <tr>\n",
       "      <th>258</th>\n",
       "      <td>259</td>\n",
       "      <td>1</td>\n",
       "      <td>1</td>\n",
       "      <td>Ward, Miss. Anna</td>\n",
       "      <td>female</td>\n",
       "      <td>35.0</td>\n",
       "      <td>0</td>\n",
       "      <td>0</td>\n",
       "      <td>PC 17755</td>\n",
       "      <td>512.3292</td>\n",
       "      <td>NaN</td>\n",
       "      <td>C</td>\n",
       "    </tr>\n",
       "    <tr>\n",
       "      <th>299</th>\n",
       "      <td>300</td>\n",
       "      <td>1</td>\n",
       "      <td>1</td>\n",
       "      <td>Baxter, Mrs. James (Helene DeLaudeniere Chaput)</td>\n",
       "      <td>female</td>\n",
       "      <td>50.0</td>\n",
       "      <td>0</td>\n",
       "      <td>1</td>\n",
       "      <td>PC 17558</td>\n",
       "      <td>247.5208</td>\n",
       "      <td>B58 B60</td>\n",
       "      <td>C</td>\n",
       "    </tr>\n",
       "    <tr>\n",
       "      <th>311</th>\n",
       "      <td>312</td>\n",
       "      <td>1</td>\n",
       "      <td>1</td>\n",
       "      <td>Ryerson, Miss. Emily Borie</td>\n",
       "      <td>female</td>\n",
       "      <td>18.0</td>\n",
       "      <td>2</td>\n",
       "      <td>2</td>\n",
       "      <td>PC 17608</td>\n",
       "      <td>262.3750</td>\n",
       "      <td>B57 B59 B63 B66</td>\n",
       "      <td>C</td>\n",
       "    </tr>\n",
       "    <tr>\n",
       "      <th>377</th>\n",
       "      <td>378</td>\n",
       "      <td>0</td>\n",
       "      <td>1</td>\n",
       "      <td>Widener, Mr. Harry Elkins</td>\n",
       "      <td>male</td>\n",
       "      <td>27.0</td>\n",
       "      <td>0</td>\n",
       "      <td>2</td>\n",
       "      <td>113503</td>\n",
       "      <td>211.5000</td>\n",
       "      <td>C82</td>\n",
       "      <td>C</td>\n",
       "    </tr>\n",
       "    <tr>\n",
       "      <th>380</th>\n",
       "      <td>381</td>\n",
       "      <td>1</td>\n",
       "      <td>1</td>\n",
       "      <td>Bidois, Miss. Rosalie</td>\n",
       "      <td>female</td>\n",
       "      <td>42.0</td>\n",
       "      <td>0</td>\n",
       "      <td>0</td>\n",
       "      <td>PC 17757</td>\n",
       "      <td>227.5250</td>\n",
       "      <td>NaN</td>\n",
       "      <td>C</td>\n",
       "    </tr>\n",
       "    <tr>\n",
       "      <th>557</th>\n",
       "      <td>558</td>\n",
       "      <td>0</td>\n",
       "      <td>1</td>\n",
       "      <td>Robbins, Mr. Victor</td>\n",
       "      <td>male</td>\n",
       "      <td>NaN</td>\n",
       "      <td>0</td>\n",
       "      <td>0</td>\n",
       "      <td>PC 17757</td>\n",
       "      <td>227.5250</td>\n",
       "      <td>NaN</td>\n",
       "      <td>C</td>\n",
       "    </tr>\n",
       "    <tr>\n",
       "      <th>679</th>\n",
       "      <td>680</td>\n",
       "      <td>1</td>\n",
       "      <td>1</td>\n",
       "      <td>Cardeza, Mr. Thomas Drake Martinez</td>\n",
       "      <td>male</td>\n",
       "      <td>36.0</td>\n",
       "      <td>0</td>\n",
       "      <td>1</td>\n",
       "      <td>PC 17755</td>\n",
       "      <td>512.3292</td>\n",
       "      <td>B51 B53 B55</td>\n",
       "      <td>C</td>\n",
       "    </tr>\n",
       "    <tr>\n",
       "      <th>700</th>\n",
       "      <td>701</td>\n",
       "      <td>1</td>\n",
       "      <td>1</td>\n",
       "      <td>Astor, Mrs. John Jacob (Madeleine Talmadge Force)</td>\n",
       "      <td>female</td>\n",
       "      <td>18.0</td>\n",
       "      <td>1</td>\n",
       "      <td>0</td>\n",
       "      <td>PC 17757</td>\n",
       "      <td>227.5250</td>\n",
       "      <td>C62 C64</td>\n",
       "      <td>C</td>\n",
       "    </tr>\n",
       "    <tr>\n",
       "      <th>716</th>\n",
       "      <td>717</td>\n",
       "      <td>1</td>\n",
       "      <td>1</td>\n",
       "      <td>Endres, Miss. Caroline Louise</td>\n",
       "      <td>female</td>\n",
       "      <td>38.0</td>\n",
       "      <td>0</td>\n",
       "      <td>0</td>\n",
       "      <td>PC 17757</td>\n",
       "      <td>227.5250</td>\n",
       "      <td>C45</td>\n",
       "      <td>C</td>\n",
       "    </tr>\n",
       "    <tr>\n",
       "      <th>737</th>\n",
       "      <td>738</td>\n",
       "      <td>1</td>\n",
       "      <td>1</td>\n",
       "      <td>Lesurer, Mr. Gustave J</td>\n",
       "      <td>male</td>\n",
       "      <td>35.0</td>\n",
       "      <td>0</td>\n",
       "      <td>0</td>\n",
       "      <td>PC 17755</td>\n",
       "      <td>512.3292</td>\n",
       "      <td>B101</td>\n",
       "      <td>C</td>\n",
       "    </tr>\n",
       "    <tr>\n",
       "      <th>742</th>\n",
       "      <td>743</td>\n",
       "      <td>1</td>\n",
       "      <td>1</td>\n",
       "      <td>Ryerson, Miss. Susan Parker \"Suzette\"</td>\n",
       "      <td>female</td>\n",
       "      <td>21.0</td>\n",
       "      <td>2</td>\n",
       "      <td>2</td>\n",
       "      <td>PC 17608</td>\n",
       "      <td>262.3750</td>\n",
       "      <td>B57 B59 B63 B66</td>\n",
       "      <td>C</td>\n",
       "    </tr>\n",
       "  </tbody>\n",
       "</table>\n",
       "</div>"
      ],
      "text/plain": [
       "     PassengerId  Survived  Pclass  \\\n",
       "118          119         0       1   \n",
       "258          259         1       1   \n",
       "299          300         1       1   \n",
       "311          312         1       1   \n",
       "377          378         0       1   \n",
       "380          381         1       1   \n",
       "557          558         0       1   \n",
       "679          680         1       1   \n",
       "700          701         1       1   \n",
       "716          717         1       1   \n",
       "737          738         1       1   \n",
       "742          743         1       1   \n",
       "\n",
       "                                                  Name     Sex   Age  SibSp  \\\n",
       "118                           Baxter, Mr. Quigg Edmond    male  24.0      0   \n",
       "258                                   Ward, Miss. Anna  female  35.0      0   \n",
       "299    Baxter, Mrs. James (Helene DeLaudeniere Chaput)  female  50.0      0   \n",
       "311                         Ryerson, Miss. Emily Borie  female  18.0      2   \n",
       "377                          Widener, Mr. Harry Elkins    male  27.0      0   \n",
       "380                              Bidois, Miss. Rosalie  female  42.0      0   \n",
       "557                                Robbins, Mr. Victor    male   NaN      0   \n",
       "679                 Cardeza, Mr. Thomas Drake Martinez    male  36.0      0   \n",
       "700  Astor, Mrs. John Jacob (Madeleine Talmadge Force)  female  18.0      1   \n",
       "716                      Endres, Miss. Caroline Louise  female  38.0      0   \n",
       "737                             Lesurer, Mr. Gustave J    male  35.0      0   \n",
       "742              Ryerson, Miss. Susan Parker \"Suzette\"  female  21.0      2   \n",
       "\n",
       "     Parch    Ticket      Fare            Cabin Embarked  \n",
       "118      1  PC 17558  247.5208          B58 B60        C  \n",
       "258      0  PC 17755  512.3292              NaN        C  \n",
       "299      1  PC 17558  247.5208          B58 B60        C  \n",
       "311      2  PC 17608  262.3750  B57 B59 B63 B66        C  \n",
       "377      2    113503  211.5000              C82        C  \n",
       "380      0  PC 17757  227.5250              NaN        C  \n",
       "557      0  PC 17757  227.5250              NaN        C  \n",
       "679      1  PC 17755  512.3292      B51 B53 B55        C  \n",
       "700      0  PC 17757  227.5250          C62 C64        C  \n",
       "716      0  PC 17757  227.5250              C45        C  \n",
       "737      0  PC 17755  512.3292             B101        C  \n",
       "742      2  PC 17608  262.3750  B57 B59 B63 B66        C  "
      ]
     },
     "execution_count": 5,
     "metadata": {},
     "output_type": "execute_result"
    }
   ],
   "source": [
    "data[(data['Embarked'] == 'C') & (data['Fare'] > 200)]"
   ]
  },
  {
   "cell_type": "code",
   "execution_count": 6,
   "metadata": {},
   "outputs": [
    {
     "data": {
      "text/plain": [
       "12"
      ]
     },
     "execution_count": 6,
     "metadata": {},
     "output_type": "execute_result"
    }
   ],
   "source": [
    "len(data[(data['Embarked'] == 'C') & (data['Fare'] > 200)])"
   ]
  },
  {
   "cell_type": "markdown",
   "metadata": {},
   "source": [
    "**1. How many people were survived and how many died?**"
   ]
  },
  {
   "cell_type": "code",
   "execution_count": 7,
   "metadata": {},
   "outputs": [
    {
     "name": "stdout",
     "output_type": "stream",
     "text": [
      "549\n",
      "342\n"
     ]
    }
   ],
   "source": [
    "print(len(data[data['Survived']==0]))\n",
    "print(len(data[data['Survived']==1]))"
   ]
  },
  {
   "cell_type": "markdown",
   "metadata": {},
   "source": [
    "**2. Print the distribution of the Survived variable separately for men and separately for women.**"
   ]
  },
  {
   "cell_type": "code",
   "execution_count": 7,
   "metadata": {},
   "outputs": [
    {
     "name": "stdout",
     "output_type": "stream",
     "text": [
      "     PassengerId  Survived  Pclass  \\\n",
      "1              2         1       1   \n",
      "2              3         1       3   \n",
      "3              4         1       1   \n",
      "8              9         1       3   \n",
      "9             10         1       2   \n",
      "10            11         1       3   \n",
      "11            12         1       1   \n",
      "15            16         1       2   \n",
      "17            18         1       2   \n",
      "19            20         1       3   \n",
      "21            22         1       2   \n",
      "22            23         1       3   \n",
      "23            24         1       1   \n",
      "25            26         1       3   \n",
      "28            29         1       3   \n",
      "31            32         1       1   \n",
      "32            33         1       3   \n",
      "36            37         1       3   \n",
      "39            40         1       3   \n",
      "43            44         1       2   \n",
      "44            45         1       3   \n",
      "47            48         1       3   \n",
      "52            53         1       1   \n",
      "53            54         1       2   \n",
      "55            56         1       1   \n",
      "56            57         1       2   \n",
      "58            59         1       2   \n",
      "61            62         1       1   \n",
      "65            66         1       3   \n",
      "66            67         1       2   \n",
      "..           ...       ...     ...   \n",
      "809          810         1       1   \n",
      "820          821         1       1   \n",
      "821          822         1       3   \n",
      "823          824         1       3   \n",
      "827          828         1       2   \n",
      "828          829         1       3   \n",
      "829          830         1       1   \n",
      "830          831         1       3   \n",
      "831          832         1       2   \n",
      "835          836         1       1   \n",
      "838          839         1       3   \n",
      "839          840         1       1   \n",
      "842          843         1       1   \n",
      "849          850         1       1   \n",
      "853          854         1       1   \n",
      "855          856         1       3   \n",
      "856          857         1       1   \n",
      "857          858         1       1   \n",
      "858          859         1       3   \n",
      "862          863         1       1   \n",
      "865          866         1       2   \n",
      "866          867         1       2   \n",
      "869          870         1       3   \n",
      "871          872         1       1   \n",
      "874          875         1       2   \n",
      "875          876         1       3   \n",
      "879          880         1       1   \n",
      "880          881         1       2   \n",
      "887          888         1       1   \n",
      "889          890         1       1   \n",
      "\n",
      "                                                  Name     Sex    Age  SibSp  \\\n",
      "1    Cumings, Mrs. John Bradley (Florence Briggs Th...  female  38.00      1   \n",
      "2                               Heikkinen, Miss. Laina  female  26.00      0   \n",
      "3         Futrelle, Mrs. Jacques Heath (Lily May Peel)  female  35.00      1   \n",
      "8    Johnson, Mrs. Oscar W (Elisabeth Vilhelmina Berg)  female  27.00      0   \n",
      "9                  Nasser, Mrs. Nicholas (Adele Achem)  female  14.00      1   \n",
      "10                     Sandstrom, Miss. Marguerite Rut  female   4.00      1   \n",
      "11                            Bonnell, Miss. Elizabeth  female  58.00      0   \n",
      "15                    Hewlett, Mrs. (Mary D Kingcome)   female  55.00      0   \n",
      "17                        Williams, Mr. Charles Eugene    male    NaN      0   \n",
      "19                             Masselmani, Mrs. Fatima  female    NaN      0   \n",
      "21                               Beesley, Mr. Lawrence    male  34.00      0   \n",
      "22                         McGowan, Miss. Anna \"Annie\"  female  15.00      0   \n",
      "23                        Sloper, Mr. William Thompson    male  28.00      0   \n",
      "25   Asplund, Mrs. Carl Oscar (Selma Augusta Emilia...  female  38.00      1   \n",
      "28                       O'Dwyer, Miss. Ellen \"Nellie\"  female    NaN      0   \n",
      "31      Spencer, Mrs. William Augustus (Marie Eugenie)  female    NaN      1   \n",
      "32                            Glynn, Miss. Mary Agatha  female    NaN      0   \n",
      "36                                    Mamee, Mr. Hanna    male    NaN      0   \n",
      "39                         Nicola-Yarred, Miss. Jamila  female  14.00      1   \n",
      "43            Laroche, Miss. Simonne Marie Anne Andree  female   3.00      1   \n",
      "44                       Devaney, Miss. Margaret Delia  female  19.00      0   \n",
      "47                           O'Driscoll, Miss. Bridget  female    NaN      0   \n",
      "52            Harper, Mrs. Henry Sleeper (Myna Haxtun)  female  49.00      1   \n",
      "53   Faunthorpe, Mrs. Lizzie (Elizabeth Anne Wilkin...  female  29.00      1   \n",
      "55                                   Woolner, Mr. Hugh    male    NaN      0   \n",
      "56                                   Rugg, Miss. Emily  female  21.00      0   \n",
      "58                        West, Miss. Constance Mirium  female   5.00      1   \n",
      "61                                 Icard, Miss. Amelie  female  38.00      0   \n",
      "65                            Moubarek, Master. Gerios    male    NaN      1   \n",
      "66                        Nye, Mrs. (Elizabeth Ramell)  female  29.00      0   \n",
      "..                                                 ...     ...    ...    ...   \n",
      "809     Chambers, Mrs. Norman Campbell (Bertha Griggs)  female  33.00      1   \n",
      "820  Hays, Mrs. Charles Melville (Clara Jennings Gr...  female  52.00      1   \n",
      "821                                  Lulic, Mr. Nikola    male  27.00      0   \n",
      "823                                 Moor, Mrs. (Beila)  female  27.00      0   \n",
      "827                              Mallet, Master. Andre    male   1.00      0   \n",
      "828                       McCormack, Mr. Thomas Joseph    male    NaN      0   \n",
      "829          Stone, Mrs. George Nelson (Martha Evelyn)  female  62.00      0   \n",
      "830            Yasbeck, Mrs. Antoni (Selini Alexander)  female  15.00      1   \n",
      "831                    Richards, Master. George Sibley    male   0.83      1   \n",
      "835                        Compton, Miss. Sara Rebecca  female  39.00      1   \n",
      "838                                    Chip, Mr. Chang    male  32.00      0   \n",
      "839                               Marechal, Mr. Pierre    male    NaN      0   \n",
      "842                            Serepeca, Miss. Augusta  female  30.00      0   \n",
      "849       Goldenberg, Mrs. Samuel L (Edwiga Grabowska)  female    NaN      1   \n",
      "853                          Lines, Miss. Mary Conover  female  16.00      0   \n",
      "855                         Aks, Mrs. Sam (Leah Rosen)  female  18.00      0   \n",
      "856         Wick, Mrs. George Dennick (Mary Hitchcock)  female  45.00      1   \n",
      "857                             Daly, Mr. Peter Denis     male  51.00      0   \n",
      "858              Baclini, Mrs. Solomon (Latifa Qurban)  female  24.00      0   \n",
      "862  Swift, Mrs. Frederick Joel (Margaret Welles Ba...  female  48.00      0   \n",
      "865                           Bystrom, Mrs. (Karolina)  female  42.00      0   \n",
      "866                       Duran y More, Miss. Asuncion  female  27.00      1   \n",
      "869                    Johnson, Master. Harold Theodor    male   4.00      1   \n",
      "871   Beckwith, Mrs. Richard Leonard (Sallie Monypeny)  female  47.00      1   \n",
      "874              Abelson, Mrs. Samuel (Hannah Wizosky)  female  28.00      1   \n",
      "875                   Najib, Miss. Adele Kiamie \"Jane\"  female  15.00      0   \n",
      "879      Potter, Mrs. Thomas Jr (Lily Alexenia Wilson)  female  56.00      0   \n",
      "880       Shelley, Mrs. William (Imanita Parrish Hall)  female  25.00      0   \n",
      "887                       Graham, Miss. Margaret Edith  female  19.00      0   \n",
      "889                              Behr, Mr. Karl Howell    male  26.00      0   \n",
      "\n",
      "     Parch            Ticket      Fare Cabin Embarked  \n",
      "1        0          PC 17599   71.2833   C85        C  \n",
      "2        0  STON/O2. 3101282    7.9250   NaN        S  \n",
      "3        0            113803   53.1000  C123        S  \n",
      "8        2            347742   11.1333   NaN        S  \n",
      "9        0            237736   30.0708   NaN        C  \n",
      "10       1           PP 9549   16.7000    G6        S  \n",
      "11       0            113783   26.5500  C103        S  \n",
      "15       0            248706   16.0000   NaN        S  \n",
      "17       0            244373   13.0000   NaN        S  \n",
      "19       0              2649    7.2250   NaN        C  \n",
      "21       0            248698   13.0000   D56        S  \n",
      "22       0            330923    8.0292   NaN        Q  \n",
      "23       0            113788   35.5000    A6        S  \n",
      "25       5            347077   31.3875   NaN        S  \n",
      "28       0            330959    7.8792   NaN        Q  \n",
      "31       0          PC 17569  146.5208   B78        C  \n",
      "32       0            335677    7.7500   NaN        Q  \n",
      "36       0              2677    7.2292   NaN        C  \n",
      "39       0              2651   11.2417   NaN        C  \n",
      "43       2     SC/Paris 2123   41.5792   NaN        C  \n",
      "44       0            330958    7.8792   NaN        Q  \n",
      "47       0             14311    7.7500   NaN        Q  \n",
      "52       0          PC 17572   76.7292   D33        C  \n",
      "53       0              2926   26.0000   NaN        S  \n",
      "55       0             19947   35.5000   C52        S  \n",
      "56       0        C.A. 31026   10.5000   NaN        S  \n",
      "58       2        C.A. 34651   27.7500   NaN        S  \n",
      "61       0            113572   80.0000   B28      NaN  \n",
      "65       1              2661   15.2458   NaN        C  \n",
      "66       0        C.A. 29395   10.5000   F33        S  \n",
      "..     ...               ...       ...   ...      ...  \n",
      "809      0            113806   53.1000    E8        S  \n",
      "820      1             12749   93.5000   B69        S  \n",
      "821      0            315098    8.6625   NaN        S  \n",
      "823      1            392096   12.4750  E121        S  \n",
      "827      2   S.C./PARIS 2079   37.0042   NaN        C  \n",
      "828      0            367228    7.7500   NaN        Q  \n",
      "829      0            113572   80.0000   B28      NaN  \n",
      "830      0              2659   14.4542   NaN        C  \n",
      "831      1             29106   18.7500   NaN        S  \n",
      "835      1          PC 17756   83.1583   E49        C  \n",
      "838      0              1601   56.4958   NaN        S  \n",
      "839      0             11774   29.7000   C47        C  \n",
      "842      0            113798   31.0000   NaN        C  \n",
      "849      0             17453   89.1042   C92        C  \n",
      "853      1          PC 17592   39.4000   D28        S  \n",
      "855      1            392091    9.3500   NaN        S  \n",
      "856      1             36928  164.8667   NaN        S  \n",
      "857      0            113055   26.5500   E17        S  \n",
      "858      3              2666   19.2583   NaN        C  \n",
      "862      0             17466   25.9292   D17        S  \n",
      "865      0            236852   13.0000   NaN        S  \n",
      "866      0     SC/PARIS 2149   13.8583   NaN        C  \n",
      "869      1            347742   11.1333   NaN        S  \n",
      "871      1             11751   52.5542   D35        S  \n",
      "874      0         P/PP 3381   24.0000   NaN        C  \n",
      "875      0              2667    7.2250   NaN        C  \n",
      "879      1             11767   83.1583   C50        C  \n",
      "880      1            230433   26.0000   NaN        S  \n",
      "887      0            112053   30.0000   B42        S  \n",
      "889      0            111369   30.0000  C148        C  \n",
      "\n",
      "[342 rows x 12 columns]\n"
     ]
    },
    {
     "name": "stderr",
     "output_type": "stream",
     "text": [
      "c:\\users\\user\\appdata\\local\\programs\\python\\python37\\lib\\site-packages\\ipykernel_launcher.py:7: SettingWithCopyWarning: \n",
      "A value is trying to be set on a copy of a slice from a DataFrame.\n",
      "Try using .loc[row_indexer,col_indexer] = value instead\n",
      "\n",
      "See the caveats in the documentation: http://pandas.pydata.org/pandas-docs/stable/indexing.html#indexing-view-versus-copy\n",
      "  import sys\n",
      "c:\\users\\user\\appdata\\local\\programs\\python\\python37\\lib\\site-packages\\ipykernel_launcher.py:9: SettingWithCopyWarning: \n",
      "A value is trying to be set on a copy of a slice from a DataFrame.\n",
      "Try using .loc[row_indexer,col_indexer] = value instead\n",
      "\n",
      "See the caveats in the documentation: http://pandas.pydata.org/pandas-docs/stable/indexing.html#indexing-view-versus-copy\n",
      "  if __name__ == '__main__':\n"
     ]
    },
    {
     "data": {
      "text/plain": [
       "([<matplotlib.patches.Wedge at 0x209ff436588>,\n",
       "  <matplotlib.patches.Wedge at 0x209ff436f98>,\n",
       "  <matplotlib.patches.Wedge at 0x209ff44d978>,\n",
       "  <matplotlib.patches.Wedge at 0x209ff458358>],\n",
       " [Text(1.019756882171498, 0.4124268435296931, '1'),\n",
       "  Text(-0.02133050372168643, 1.0997931667413556, '2'),\n",
       "  Text(-0.6661706181852185, -0.8753380532495568, '3'),\n",
       "  Text(1.055442282845914, -0.3099057721001757, '4')],\n",
       " [Text(0.5562310266389988, 0.22496009647074167, '12.2%'),\n",
       "  Text(-0.01163482021182896, 0.5998871818589212, '26.2%'),\n",
       "  Text(-0.36336579173739186, -0.4774571199543037, '52.5%'),\n",
       "  Text(0.5756957906432257, -0.16903951205464127, '9.1%')])"
      ]
     },
     "execution_count": 7,
     "metadata": {},
     "output_type": "execute_result"
    },
    {
     "data": {
      "image/png": "[encoded data removed]",
      "text/plain": [
       "<Figure size 432x288 with 1 Axes>"
      ]
     },
     "metadata": {},
     "output_type": "display_data"
    }
   ],
   "source": [
    "import matplotlib.pyplot as plt\n",
    "#print(len(data[(data['Survived'] == 1) & (data['Sex'] == 'male')]))\n",
    "#print(len(data[(data['Survived'] == 1) & (data['Sex'] == 'female')]))\n",
    "\n",
    "Survivors = data[(data['Survived'] == 1)]\n",
    "Survivors['Sex'] = Survivors['Sex'].apply(lambda x: 1 if x=='male' else 0)\n",
    "Dead = data[(data['Survived'] == 0)]\n",
    "Dead['Sex'] = Dead['Sex'].apply(lambda x: 1 if x=='male' else 0)\n",
    "\n",
    "sur_m = len(Survivors[Survivors['Sex']==1])\n",
    "sur_f = len(Survivors[Survivors['Sex']==0])\n",
    "dead_m = len(Dead[Dead['Sex']==1])\n",
    "dead_f = len(Dead[Dead['Sex']==0])\n",
    "group = [sur_m,sur_f,dead_m,dead_f]\n",
    "labels = [1,2,3,4]\n",
    "plt.pie(group,labels=labels,shadow=True,autopct='%1.1f%%')"
   ]
  },
  {
   "cell_type": "markdown",
   "metadata": {},
   "source": [
    "**3. What is the median and standard deviation of ticket prices? Also plot a histogram of ticket prices.**"
   ]
  },
  {
   "cell_type": "code",
   "execution_count": 50,
   "metadata": {},
   "outputs": [
    {
     "name": "stdout",
     "output_type": "stream",
     "text": [
      "14.4542\n",
      "49.6934285971809\n"
     ]
    },
    {
     "data": {
      "text/plain": [
       "<matplotlib.axes._subplots.AxesSubplot at 0x238c808e198>"
      ]
     },
     "execution_count": 50,
     "metadata": {},
     "output_type": "execute_result"
    },
    {
     "data": {
      "image/png": "[encoded data removed]",
      "text/plain": [
       "<Figure size 432x288 with 1 Axes>"
      ]
     },
     "metadata": {
      "needs_background": "light"
     },
     "output_type": "display_data"
    }
   ],
   "source": [
    "print(data['Fare'].median())\n",
    "print(data['Fare'].std())\n",
    "sns.distplot(data['Fare'])"
   ]
  },
  {
   "cell_type": "markdown",
   "metadata": {},
   "source": [
    "**4. Calculate the percent of survivors among people under 25 and over 55. Calculate the average age of survivors.**"
   ]
  },
  {
   "cell_type": "code",
   "execution_count": 42,
   "metadata": {},
   "outputs": [
    {
     "name": "stdout",
     "output_type": "stream",
     "text": [
      "15.375982042648708\n",
      "19.24941605839416\n"
     ]
    }
   ],
   "source": [
    "data1 = data[(data['Age'] <= 25) | (data['Age'] >= 55)]\n",
    "data2 = data1[data1['Survived'] == 1]\n",
    "print(len(data1['Age'])/len(data2['Age'])*100)\n",
    "print(mean(data['Age']))"
   ]
  },
  {
   "cell_type": "markdown",
   "metadata": {},
   "source": [
    "**5. From what city embarked the most passengers?**"
   ]
  },
  {
   "cell_type": "code",
   "execution_count": 48,
   "metadata": {},
   "outputs": [
    {
     "data": {
      "text/plain": [
       "0    S\n",
       "dtype: object"
      ]
     },
     "execution_count": 48,
     "metadata": {},
     "output_type": "execute_result"
    }
   ],
   "source": [
    "data['Embarked'].mode()"
   ]
  },
  {
   "cell_type": "markdown",
   "metadata": {},
   "source": [
    "**6. Calculate the average age of passengers in each of the three classes.**"
   ]
  },
  {
   "cell_type": "code",
   "execution_count": 43,
   "metadata": {},
   "outputs": [
    {
     "name": "stdout",
     "output_type": "stream",
     "text": [
      "38.233440860215055\n",
      "29.87763005780347\n",
      "25.14061971830986\n"
     ]
    }
   ],
   "source": [
    "data_p1 = data[data['Pclass'] == 1]\n",
    "data_p2 = data[data['Pclass'] == 2]\n",
    "data_p3 = data[data['Pclass'] == 3]\n",
    "print(mean(data_p1['Age']))\n",
    "print(mean(data_p2['Age']))\n",
    "print(mean(data_p3['Age']))"
   ]
  },
  {
   "cell_type": "markdown",
   "metadata": {},
   "source": [
    "**7. Compare the fare distributions of survived and dead.**"
   ]
  },
  {
   "cell_type": "code",
   "execution_count": 51,
   "metadata": {},
   "outputs": [
    {
     "name": "stdout",
     "output_type": "stream",
     "text": [
      "AxesSubplot(0.125,0.125;0.775x0.755)\n",
      "AxesSubplot(0.125,0.125;0.775x0.755)\n"
     ]
    },
    {
     "data": {
      "image/png": "[encoded data removed]",
      "text/plain": [
       "<Figure size 432x288 with 1 Axes>"
      ]
     },
     "metadata": {
      "needs_background": "light"
     },
     "output_type": "display_data"
    }
   ],
   "source": [
    "survivor = data[data['Survived']==1]\n",
    "dead = data[data['Survived']==0]\n",
    "print(sns.distplot(survivor['Fare'], color='red'))\n",
    "print(sns.distplot(dead['Fare'],color='blue'))"
   ]
  },
  {
   "cell_type": "markdown",
   "metadata": {},
   "source": [
    "**8. Calculate the average age of surviving men who bought a ticket to Pclass 2.**"
   ]
  },
  {
   "cell_type": "code",
   "execution_count": 52,
   "metadata": {},
   "outputs": [
    {
     "data": {
      "text/plain": [
       "16.022000000000002"
      ]
     },
     "execution_count": 52,
     "metadata": {},
     "output_type": "execute_result"
    }
   ],
   "source": [
    "data_a = data[(data['Survived'] == 1) & (data['Pclass'] == 2) &(data['Sex']=='male')]\n",
    "mean(data_a['Age'])"
   ]
  },
  {
   "cell_type": "markdown",
   "metadata": {},
   "source": [
    "**9. Create a new column that will indicate whether the passenger has relatives. Calculate the correlation between it and Survived column.**"
   ]
  },
  {
   "cell_type": "code",
   "execution_count": 47,
   "metadata": {},
   "outputs": [
    {
     "name": "stdout",
     "output_type": "stream",
     "text": [
      "   PassengerId  Survived  Pclass  \\\n",
      "0            1         0       3   \n",
      "1            2         1       1   \n",
      "2            3         1       3   \n",
      "3            4         1       1   \n",
      "4            5         0       3   \n",
      "\n",
      "                                                Name     Sex   Age  SibSp  \\\n",
      "0                            Braund, Mr. Owen Harris    male  22.0      1   \n",
      "1  Cumings, Mrs. John Bradley (Florence Briggs Th...  female  38.0      1   \n",
      "2                             Heikkinen, Miss. Laina  female  26.0      0   \n",
      "3       Futrelle, Mrs. Jacques Heath (Lily May Peel)  female  35.0      1   \n",
      "4                           Allen, Mr. William Henry    male  35.0      0   \n",
      "\n",
      "   Parch            Ticket     Fare Cabin Embarked  Relatives  \n",
      "0      0         A/5 21171   7.2500   NaN        S          1  \n",
      "1      0          PC 17599  71.2833   C85        C          1  \n",
      "2      0  STON/O2. 3101282   7.9250   NaN        S          0  \n",
      "3      0            113803  53.1000  C123        S          1  \n",
      "4      0            373450   8.0500   NaN        S          0  \n",
      "           Survived  Relatives\n",
      "Survived   1.000000   0.203367\n",
      "Relatives  0.203367   1.000000\n"
     ]
    }
   ],
   "source": [
    "data['Relatives'] = data['SibSp']+data['Parch']\n",
    "data['Relatives'] = data['Relatives'].apply(lambda x: 1 if x>=1 else x)\n",
    "print(data.head())\n",
    "data_corr = data[['Survived','Relatives']]\n",
    "print(data_corr.corr())"
   ]
  },
  {
   "cell_type": "code",
   "execution_count": null,
   "metadata": {},
   "outputs": [],
   "source": []
  }
 ],
 "metadata": {
  "kernelspec": {
   "display_name": "Python 3",
   "language": "python",
   "name": "python3"
  },
  "language_info": {
   "codemirror_mode": {
    "name": "ipython",
    "version": 3
   },
   "file_extension": ".py",
   "mimetype": "text/x-python",
   "name": "python",
   "nbconvert_exporter": "python",
   "pygments_lexer": "ipython3",
   "version": "3.7.2"
  },
  "name": "seminar02_practice_pandas_titanic.ipynb"
 },
 "nbformat": 4,
 "nbformat_minor": 1
}
