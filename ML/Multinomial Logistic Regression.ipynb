{
 "cells": [
  {
   "cell_type": "code",
   "execution_count": 26,
   "metadata": {},
   "outputs": [
    {
     "name": "stdout",
     "output_type": "stream",
     "text": [
      "교차 검증 Accuracy : 0.9826428571428572\n",
      "최종 Accuracy : 0.9845\n",
      "현재 나의 상태 : [1]\n"
     ]
    }
   ],
   "source": [
    "import numpy as np\n",
    "import pandas as pd\n",
    "from scipy import stats\n",
    "from sklearn.model_selection import train_test_split, cross_val_score\n",
    "from sklearn.preprocessing import MinMaxScaler\n",
    "from sklearn.linear_model import LogisticRegression\n",
    "from sklearn.metrics import accuracy_score\n",
    "\n",
    "# Raw Data Loading\n",
    "df = pd.read_csv('./data/bmi.csv', skiprows=3)\n",
    "\n",
    "# 결측치 확인\n",
    "# df.isnull().sum()\n",
    "\n",
    "# 이상치 확인\n",
    "# zscore = 1.8\n",
    "# df.loc[np.abs(stats.zscore(df['height'])) >= zscore, :]\n",
    "# df.loc[np.abs(stats.zscore(df['weight'])) >= zscore, :]\n",
    "# df.loc[np.abs(stats.zscore(df['label'])) >= zscore, :]\n",
    "\n",
    "# Data Split\n",
    "x_data_train, x_data_test, t_data_train, t_data_test = \\\n",
    "train_test_split(df[['height','weight']], df['label'], test_size=0.3, random_state=0)\n",
    "\n",
    "# Normalization\n",
    "scaler = MinMaxScaler()\n",
    "scaler.fit(x_data_train)\n",
    "\n",
    "x_data_train_norm = scaler.transform(x_data_train)\n",
    "x_data_test_norm = scaler.transform(x_data_test)\n",
    "\n",
    "# Model 생성\n",
    "model = LogisticRegression()\n",
    "model.fit(x_data_train_norm,t_data_train)\n",
    "\n",
    "# Cross Validation\n",
    "k_fold = 10\n",
    "k_fold_score = cross_val_score(model, x_data_train_norm, t_data_train, cv=k_fold)\n",
    "print('교차 검증 Accuracy : {}'.format(k_fold_score.mean()))\n",
    "\n",
    "# 최종모델 평가\n",
    "predict_val = model.predict(x_data_test_norm)\n",
    "accuracy = accuracy_score(predict_val, t_data_test)\n",
    "print('최종 Accuracy : {}'.format(accuracy))\n",
    "\n",
    "# Predict\n",
    "height = 182\n",
    "weight = 78\n",
    "my_state = [[height,weight]]\n",
    "my_state_val = model.predict(scaler.transform(my_state))\n",
    "print('현재 나의 상태 : {}'.format(my_state_val))"
   ]
  },
  {
   "cell_type": "code",
   "execution_count": null,
   "metadata": {
    "scrolled": true
   },
   "outputs": [],
   "source": []
  }
 ],
 "metadata": {
  "kernelspec": {
   "display_name": "Python [conda env:data_env] *",
   "language": "python",
   "name": "conda-env-data_env-py"
  },
  "language_info": {
   "codemirror_mode": {
    "name": "ipython",
    "version": 3
   },
   "file_extension": ".py",
   "mimetype": "text/x-python",
   "name": "python",
   "nbconvert_exporter": "python",
   "pygments_lexer": "ipython3",
   "version": "3.7.9"
  }
 },
 "nbformat": 4,
 "nbformat_minor": 4
}
