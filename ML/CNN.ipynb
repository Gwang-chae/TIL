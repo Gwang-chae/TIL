{
 "cells": [
  {
   "cell_type": "code",
   "execution_count": 48,
   "metadata": {},
   "outputs": [
    {
     "name": "stdout",
     "output_type": "stream",
     "text": [
      "(1, 3, 3, 1)\n",
      "(2, 2, 1, 5)\n",
      "(1, 2, 2, 5)\n"
     ]
    },
    {
     "data": {
      "text/plain": [
       "array([[[[8., 8., 8., 8., 8.],\n",
       "         [8., 8., 8., 8., 8.]],\n",
       "\n",
       "        [[8., 8., 8., 8., 8.],\n",
       "         [8., 8., 8., 8., 8.]]]], dtype=float32)"
      ]
     },
     "execution_count": 48,
     "metadata": {},
     "output_type": "execute_result"
    }
   ],
   "source": [
    "import numpy as np\n",
    "import tensorflow as tf\n",
    "\n",
    "# 입력이미지(4차원으로 표현)\n",
    "# (이미지 개수, width, height, color)\n",
    "# (1,3,3,1) => (이미지 1개, 가로 3pixel, 세로 3pixel, color수 1)\n",
    "\n",
    "image = np.array([[[[1],[1],[1]],\n",
    "                   [[1],[1],[1]],\n",
    "                   [[1],[1],[1]]]], dtype=np.float32)\n",
    "print(image.shape)\n",
    "\n",
    "# filter를 적용\n",
    "# (filter의 가로길이, 세로길이, 필터의 channel, 필터의 개수)\n",
    "# (2,2,1,5)\n",
    "weight = np.array([[[[2,2,2,2,2]],\n",
    "                    [[2,2,2,2,2]]],\n",
    "                   [[[2,2,2,2,2]],\n",
    "                    [[2,2,2,2,2]]]], dtype=np.float32)\n",
    "print(weight.shape)\n",
    "\n",
    "# stride : 1\n",
    "# Padding : VALID => Padding을 사용하지 않겠다\n",
    "result = tf.nn.conv2d(image, weight, strides=[1,1,1,1], padding='VALID')  # Feature map\n",
    "print(result.shape)   # (1, 2, 2, 5)\n",
    "                      # (이미지 1개, 2 by 2 Feature map, Feature map 개수)\n",
    "sess = tf.Session()\n",
    "sess.run(result)"
   ]
  },
  {
   "cell_type": "code",
   "execution_count": null,
   "metadata": {},
   "outputs": [],
   "source": []
  }
 ],
 "metadata": {
  "kernelspec": {
   "display_name": "Python [conda env:data_env] *",
   "language": "python",
   "name": "conda-env-data_env-py"
  },
  "language_info": {
   "codemirror_mode": {
    "name": "ipython",
    "version": 3
   },
   "file_extension": ".py",
   "mimetype": "text/x-python",
   "name": "python",
   "nbconvert_exporter": "python",
   "pygments_lexer": "ipython3",
   "version": "3.7.9"
  }
 },
 "nbformat": 4,
 "nbformat_minor": 4
}
