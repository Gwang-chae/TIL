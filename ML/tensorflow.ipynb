{
 "cells": [
  {
   "cell_type": "code",
   "execution_count": 1,
   "metadata": {},
   "outputs": [
    {
     "name": "stdout",
     "output_type": "stream",
     "text": [
      "2.1.0\n"
     ]
    }
   ],
   "source": [
    "import tensorflow as tf\n",
    "\n",
    "print(tf.__version__)"
   ]
  },
  {
   "cell_type": "code",
   "execution_count": 2,
   "metadata": {},
   "outputs": [
    {
     "name": "stdout",
     "output_type": "stream",
     "text": [
      "[[0.62323538 0.28094194]\n",
      " [0.61968519 0.20786151]]\n",
      "tf.Tensor([0.7794295], shape=(1,), dtype=float32)\n",
      "[0.7794295]\n"
     ]
    }
   ],
   "source": [
    "import numpy as np\n",
    "import tensorflow as tf\n",
    "\n",
    "# Numpy\n",
    "random1 = np.random.rand(2,2)\n",
    "print(random1)\n",
    "\n",
    "# Tensorflow\n",
    "random2 = tf.random.normal([1], dtype=tf.float32)\n",
    "print(random2)\n",
    "# TF 1.x 버전에서는 Node가 가지는 값을 얻어오려면\n",
    "# Session이 필요했음\n",
    "# TF 2.x 버전에서는 Session 없이 즉시 실행(Eager Execution)\n",
    "print(random2.numpy())"
   ]
  },
  {
   "cell_type": "code",
   "execution_count": 3,
   "metadata": {},
   "outputs": [
    {
     "name": "stdout",
     "output_type": "stream",
     "text": [
      "c의 값은 : 30.0\n",
      "60.0\n"
     ]
    }
   ],
   "source": [
    "import tensorflow as tf\n",
    "\n",
    "a = tf.constant(10, dtype=tf.float32)\n",
    "b = tf.constant(20, dtype=tf.float32)\n",
    "\n",
    "c = a + b\n",
    "\n",
    "print('c의 값은 : {}'.format(c.numpy()))\n",
    "\n",
    "d = 30.0\n",
    "\n",
    "tensor_d = tf.convert_to_tensor(d)\n",
    "print((c + tensor_d).numpy())"
   ]
  },
  {
   "cell_type": "code",
   "execution_count": 4,
   "metadata": {},
   "outputs": [
    {
     "name": "stdout",
     "output_type": "stream",
     "text": [
      "[0.23765859]\n"
     ]
    }
   ],
   "source": [
    "import tensorflow as tf\n",
    "\n",
    "W = tf.Variable(tf.random.normal([1]), name='weight')\n",
    "\n",
    "# 기존에는 tf.Variable()을 이용해서 변수를 만들면 사용하기 전에\n",
    "# 초기화를 반드시 진행해야 했음\n",
    "# sess.run(tf.global_valriables_initializer())\n",
    "# TF 2.0에서는 초기화를 할 필요가 없음\n",
    "print(W.numpy())"
   ]
  },
  {
   "cell_type": "code",
   "execution_count": null,
   "metadata": {},
   "outputs": [],
   "source": [
    "# tensorflow graph에 입력을 주는 부분이 사라짐\n",
    "# 기존에는 graph에 데이터를 밀어넣기 위해서 placeholder를 이용했음\n",
    "# Eager Execution에 의해서 이제는 placeholder를 필요없어졌음\n",
    "\n",
    "# Lazy Execution을 하지 않고 이제부턴 Eager Execution을 수행"
   ]
  },
  {
   "cell_type": "code",
   "execution_count": null,
   "metadata": {},
   "outputs": [],
   "source": [
    "# tensorflow의 keras를 이용해서 model 생성\n",
    "import tensorflow as tf\n",
    "\n",
    "# keras model 생성\n",
    "model = tf.keras.models.Sequential()\n",
    "\n",
    "# model 안에 layer를 생성\n",
    "model.add(tf.keras.layers.Flatten(input_shape=(2,)))       # input layer\n",
    "model.add(tf.keras.layers.Dense(3, activation='softmax'))  # output layer\n",
    "\n",
    "# model compile 과정\n",
    "model.compile(loss='categorical_crossentropy',\n",
    "              optimizer=tf.keras.optimizers.SGD(learning_rate=1e-3),\n",
    "              metrics=['accuracy'])\n",
    "\n",
    "# tensorflow는 내 loss를 따로 구현해서 넣을 수 있음\n",
    "# sklearn과의 차이!!\n",
    "def my_loss:\n",
    "    pass\n",
    "\n",
    "# model 학습\n",
    "model.fit(x_data_train, t_data_train, epochs=100, batch_size=100, validation_split=0.3)"
   ]
  },
  {
   "cell_type": "code",
   "execution_count": 5,
   "metadata": {},
   "outputs": [
    {
     "name": "stdout",
     "output_type": "stream",
     "text": [
      "Ozone      37\n",
      "Solar.R     7\n",
      "Wind        0\n",
      "Temp        0\n",
      "Month       0\n",
      "Day         0\n",
      "dtype: int64\n"
     ]
    }
   ],
   "source": [
    "import numpy as np\n",
    "import pandas as pd\n",
    "from tensorflow.keras.models import Sequential\n",
    "from tensorflow.keras.layers import Flatten, Dense\n",
    "from tensorflow.keras.optimizers import SGD\n",
    "from sklearn.preprocessing import MinMaxScaler\n",
    "from scipy import stats\n",
    "\n",
    "# Raw Data Loading\n",
    "df = pd.read_csv('./data/ozone.csv')\n",
    "\n",
    "print(df.isnull().sum())"
   ]
  },
  {
   "cell_type": "code",
   "execution_count": 6,
   "metadata": {},
   "outputs": [
    {
     "name": "stdout",
     "output_type": "stream",
     "text": [
      "0.9845\n",
      "0.998\n"
     ]
    }
   ],
   "source": [
    "import numpy as np\n",
    "import pandas as pd\n",
    "from sklearn.preprocessing import MinMaxScaler\n",
    "from sklearn.model_selection import train_test_split\n",
    "from sklearn.linear_model import LogisticRegression\n",
    "from sklearn.neighbors import KNeighborsClassifier\n",
    "\n",
    "# Raw Data Loading\n",
    "df = pd.read_csv('./data/bmi.csv', skiprows=3)\n",
    "\n",
    "# Data Split\n",
    "x_data_train, x_data_test, t_data_train, t_data_test = \\\n",
    "train_test_split(df[['height','weight']], df['label'], test_size=0.3, random_state=0)\n",
    "\n",
    "# Normalization\n",
    "scaler = MinMaxScaler()\n",
    "scaler.fit(x_data_train)\n",
    "x_data_train_norm = scaler.transform(x_data_train)\n",
    "x_data_test_norm = scaler.transform(x_data_test)\n",
    "\n",
    "# Multinomial Logistic Regression\n",
    "model = LogisticRegression()\n",
    "model.fit(x_data_train_norm, t_data_train)\n",
    "print(model.score(x_data_test_norm, t_data_test))\n",
    "\n",
    "# KNN을 이용한 분류\n",
    "knn_model = KNeighborsClassifier(n_neighbors=3)\n",
    "knn_model.fit(x_data_train_norm, t_data_train)\n",
    "print(knn_model.score(x_data_test_norm, t_data_test))"
   ]
  },
  {
   "cell_type": "code",
   "execution_count": 36,
   "metadata": {},
   "outputs": [
    {
     "name": "stdout",
     "output_type": "stream",
     "text": [
      "sklearn의 결과 : [[38.75927452]]\n",
      "tensorflow의 결과 : [[27.985199]]\n"
     ]
    }
   ],
   "source": [
    "import numpy as np\n",
    "import pandas as pd\n",
    "from scipy import stats\n",
    "from sklearn.preprocessing import MinMaxScaler\n",
    "from sklearn.neighbors import KNeighborsRegressor\n",
    "import warnings\n",
    "\n",
    "# Raw Data Loading\n",
    "df = pd.read_csv('./data/ozone.csv')\n",
    "\n",
    "training_data = df   # 원본 보존\n",
    "x_data = training_data[['Solar.R','Wind','Temp']]\n",
    "t_data = training_data['Ozone']\n",
    "\n",
    "# 결측치 확인\n",
    "# print(df.isnull().sum())\n",
    "\n",
    "# 독립변수에 대한 결측치 처리\n",
    "# 1. Solar.R에 7개의 결측치가 존재하는데 meian으로 처리\n",
    "for col in x_data.columns:\n",
    "    col_median = np.nanmedian(x_data[col])   # np.nanmedian => nan제외하고 median구하는 함수\n",
    "    x_data[col].loc[x_data[col].isnull()] = col_median\n",
    "\n",
    "# 2. 독립변수에 대한 이상치 검출 후 이 이상치는 mean 처리\n",
    "zscore = 1.8\n",
    "\n",
    "for col in x_data.columns:\n",
    "    outliers = x_data[col][np.abs(stats.zscore(x_data[col])) > zscore]\n",
    "    col_mean = np.mean(x_data.loc[~x_data[col].isin(outliers), col])   # 각 컬럼에서 이상치가 아닌 데이터들의 평균\n",
    "    x_data.loc[x_data[col].isin(outliers), col] = col_mean   # 이상치 값들을 위에서 구한 평균으로 대체\n",
    "\n",
    "# 3. 정규화\n",
    "scaler_x = MinMaxScaler()\n",
    "scaler_t = MinMaxScaler()\n",
    "\n",
    "scaler_x.fit(x_data.values)\n",
    "scaler_t.fit(t_data.values.reshape(-1,1)) # 2차원 형태\n",
    "\n",
    "x_data_norm = scaler_x.transform(x_data)\n",
    "t_data_norm = scaler_t.transform(t_data.values.reshape(-1,1)).ravel() # 2차원 형태인데 나중에 1차원으로 사용되어야 함\n",
    "\n",
    "# 4. 종속변수에 대한 결측치는 KNN을 이용해서 예측값으로 imputation\n",
    "#    학습에 사용할 x_data_train_norm, t_data_train_norm을 구해야함\n",
    "x_data_train_norm = x_data_norm[~np.isnan(t_data_norm)]   # t_data_norm에 NaN 값이 있는 row를 제외하고 x_data_train_norm으로 생성\n",
    "t_data_train_norm = t_data_norm[~np.isnan(t_data_norm)]\n",
    "\n",
    "# KNN 모델 생성 후 fitting\n",
    "knn_regressor = KNeighborsRegressor(n_neighbors=2)\n",
    "knn_regressor.fit(x_data_train_norm, t_data_train_norm)\n",
    "\n",
    "# Predict\n",
    "knn_predict = knn_regressor.predict(x_data_norm[np.isnan(t_data_norm)])\n",
    "t_data_norm[np.isnan(t_data_norm)] = knn_predict\n",
    "\n",
    "# 학습 진행\n",
    "\n",
    "from sklearn.linear_model import LinearRegression\n",
    "from tensorflow.keras.models import Sequential\n",
    "from tensorflow.keras.layers import Flatten, Dense\n",
    "from tensorflow.keras.optimizers import SGD\n",
    "\n",
    "test_data = [[310, 15, 80]]\n",
    "\n",
    "# sklearn\n",
    "sklearn_model = LinearRegression()\n",
    "sklearn_model.fit(x_data_norm, t_data_norm)\n",
    "result = sklearn_model.predict(scaler_x.transform(test_data)).reshape(-1,1) # 아래에서 다시 transform하기 위해 2차원으로\n",
    "final_result = scaler_t.inverse_transform(result)  # 정규화된 형태를 다시 원래대로\n",
    "print('sklearn의 결과 : {}'.format(final_result))\n",
    "\n",
    "# Tensorflow 2.x\n",
    "# 모델 생성\n",
    "keras_model = Sequential()\n",
    "\n",
    "# 레이어 추가\n",
    "keras_model.add(Flatten(input_shape=(3,)))\n",
    "keras_model.add(Dense(1, activation='linear'))\n",
    "\n",
    "# compile\n",
    "keras_model.compile(optimizer=SGD(learning_rate=1e-2), loss='mse')\n",
    "\n",
    "# 학습\n",
    "keras_model.fit(x_data_norm, t_data_norm,\n",
    "                epochs=500, verbose=0)   # verbose는 epoch마다의 결과를 보여줌\n",
    "\n",
    "# 예측\n",
    "result = keras_model.predict(scaler_x.transform(test_data)).reshape(-1,1)\n",
    "final_result = scaler_t.inverse_transform(result)\n",
    "print('tensorflow의 결과 : {}'.format(final_result))"
   ]
  },
  {
   "cell_type": "code",
   "execution_count": 38,
   "metadata": {},
   "outputs": [
    {
     "name": "stdout",
     "output_type": "stream",
     "text": [
      "Survived    0\n",
      "Pclass      0\n",
      "Sex         0\n",
      "Age         0\n",
      "Embarked    0\n",
      "Family      0\n",
      "dtype: int64\n",
      "sklearn의 정확도는 : 0.7947761194029851\n",
      "268/268 [==============================] - 0s 63us/sample - loss: 0.5530 - accuracy: 0.7649\n",
      "TF2.0의 정확도는 : [0.5530340627058229, 0.76492536]\n"
     ]
    }
   ],
   "source": [
    "import numpy as np\n",
    "import pandas as pd\n",
    "import tensorflow as tf\n",
    "from tensorflow.keras.models import Sequential\n",
    "from tensorflow.keras.layers import Flatten, Dense\n",
    "from tensorflow.keras.optimizers import SGD\n",
    "from sklearn.preprocessing import MinMaxScaler\n",
    "from sklearn.model_selection import train_test_split\n",
    "from sklearn.linear_model import LogisticRegression\n",
    "from scipy import stats\n",
    "\n",
    "# Raw Data Loading\n",
    "df = pd.read_csv('./data/titanic/train.csv')\n",
    "\n",
    "# Feature Engineering\n",
    "# 필요없는 column 삭제\n",
    "df = df.drop(['PassengerId','Name','Ticket','Cabin','Fare'], axis=1, inplace=False)\n",
    "\n",
    "# 하나로 합칠 수 있는 column 처리\n",
    "df['Family'] = df['SibSp'] + df['Parch']\n",
    "df.drop(['SibSp','Parch'], axis=1, inplace=True)\n",
    "\n",
    "# 문자로 되어 있는 column을 숫자로 변환\n",
    "sex_dict = { 'male' : 0, 'female' : 1 }\n",
    "df['Sex'] = df['Sex'].map(sex_dict)\n",
    "\n",
    "embarked_dict = {'S' : 0, 'C' : 1, 'Q' : 2}\n",
    "df['Embarked'] = df['Embarked'].map(embarked_dict)\n",
    "\n",
    "# # 결측치 처리\n",
    "# Age에 177개의 결측치, Embarked에 결측치 2\n",
    "# Age는 median, Embarked는 mode를 이용하여 결측치 처리\n",
    "df.loc[df['Age'].isnull(),'Age'] = np.nanmedian(df['Age'].values)\n",
    "mode_result = stats.mode(df['Embarked'],nan_policy='omit')[0].ravel()   # nan_policy='omit'은 nan일 경우 무시하는 옵션\n",
    "df.loc[df['Embarked'].isnull(),'Embarked'] = mode_result[0]\n",
    "\n",
    "# 이상치 확인\n",
    "# zscore = 1.8\n",
    "\n",
    "# for col in df.columns:\n",
    "#     outliers = df.loc[np.abs(stats.zscore(df[col])) >= zscore,col]\n",
    "#     print('Col : {}에 이상치 : {}개'.format(col,outliers.sum()))\n",
    "#     print('outliers : {}'.format(outliers))\n",
    "# 실제로 이상치가 검출되지만 사실값이기 때문에 수정하지 않음.\n",
    "\n",
    "def age_category(age):\n",
    "    if ((age >=0) & (age<25)):\n",
    "        return 0\n",
    "    elif ((age >=25) & (age<50)):\n",
    "        return 1\n",
    "    else:\n",
    "        return 2\n",
    "\n",
    "df['Age'] = df['Age'].map(age_category)    \n",
    "\n",
    "#################################################\n",
    "\n",
    "# data split\n",
    "\n",
    "x_data_train, x_data_test, t_data_train, t_data_test = \\\n",
    "train_test_split(df.drop('Survived', axis=1, inplace=False), df['Survived'], test_size=0.3, random_state=0)\n",
    "\n",
    "# Normalization\n",
    "scaler = MinMaxScaler()\n",
    "scaler.fit(x_data_train)\n",
    "x_data_train_norm = scaler.transform(x_data_train)\n",
    "x_data_test_norm = scaler.transform(x_data_test)\n",
    "\n",
    "##################\n",
    "\n",
    "# sklearn으로 모델 구현\n",
    "sklearn_model = LogisticRegression()    # model 생성\n",
    "sklearn_model.fit(x_data_train_norm,t_data_train)  # model 학습\n",
    "sklearn_result = sklearn_model.score(x_data_test_norm,t_data_test)\n",
    "\n",
    "print('sklearn의 정확도는 : {}'.format(sklearn_result))\n",
    "\n",
    "# tensorflow 2.x로 구현\n",
    "keras_model = Sequential()\n",
    "\n",
    "keras_model.add(Flatten(input_shape=(x_data_train_norm.shape[1],)))\n",
    "keras_model.add(Dense(1, activation='sigmoid'))\n",
    "\n",
    "keras_model.compile(optimizer=SGD(learning_rate=1e-3),\n",
    "                    loss='binary_crossentropy',\n",
    "                    metrics=['accuracy'])\n",
    "\n",
    "result = keras_model.fit(x_data_train_norm,\n",
    "                         t_data_train,\n",
    "                         epochs=1000,\n",
    "                         verbose=0,\n",
    "                         validation_split=0.3)\n",
    "\n",
    "keras_result = keras_model.evaluate(x_data_test_norm,t_data_test)\n",
    "print('TF2.0의 정확도는 : {}'.format(keras_result))"
   ]
  },
  {
   "cell_type": "code",
   "execution_count": 40,
   "metadata": {},
   "outputs": [
    {
     "name": "stdout",
     "output_type": "stream",
     "text": [
      "dict_keys(['loss', 'accuracy', 'val_loss', 'val_accuracy'])\n"
     ]
    },
    {
     "data": {
      "image/png": "[encoded data removed]",
      "text/plain": [
       "<Figure size 432x288 with 1 Axes>"
      ]
     },
     "metadata": {
      "needs_background": "light"
     },
     "output_type": "display_data"
    }
   ],
   "source": [
    "import matplotlib.pyplot as plt\n",
    "\n",
    "print(result.history.keys())\n",
    "\n",
    "plt.plot(result.history['accuracy'], color='b')\n",
    "plt.plot(result.history['val_accuracy'], color='r')\n",
    "plt.show()  # overfitting 발생"
   ]
  },
  {
   "cell_type": "code",
   "execution_count": 43,
   "metadata": {},
   "outputs": [
    {
     "name": "stdout",
     "output_type": "stream",
     "text": [
      "sklearn result :\n",
      "              precision    recall  f1-score   support\n",
      "\n",
      "           0       0.96      0.96      0.96      1242\n",
      "           1       0.95      0.97      0.96      1429\n",
      "           2       0.92      0.90      0.91      1276\n",
      "           3       0.91      0.90      0.90      1298\n",
      "           4       0.92      0.92      0.92      1236\n",
      "           5       0.88      0.88      0.88      1119\n",
      "           6       0.93      0.96      0.94      1243\n",
      "           7       0.94      0.93      0.94      1334\n",
      "           8       0.89      0.88      0.88      1204\n",
      "           9       0.89      0.89      0.89      1219\n",
      "\n",
      "    accuracy                           0.92     12600\n",
      "   macro avg       0.92      0.92      0.92     12600\n",
      "weighted avg       0.92      0.92      0.92     12600\n",
      "\n",
      "tensorflow result :\n",
      "12600/12600 [==============================] - 0s 36us/sample - loss: 0.2886 - sparse_categorical_accuracy: 0.9204\n",
      "[0.28857140054778446, 0.9203968]\n"
     ]
    }
   ],
   "source": [
    "import numpy as np\n",
    "import pandas as pd\n",
    "import tensorflow as tf\n",
    "from sklearn.preprocessing import MinMaxScaler\n",
    "from sklearn.linear_model import LogisticRegression  # multinomial 구현도 이걸 이용\n",
    "from sklearn.model_selection import train_test_split\n",
    "from sklearn.metrics import classification_report\n",
    "from tensorflow.keras.models import Sequential\n",
    "from tensorflow.keras.layers import Flatten, Dense\n",
    "from tensorflow.keras.optimizers import SGD\n",
    "\n",
    "# Raw Data Loading\n",
    "df = pd.read_csv('./data/digit-recognizer/train.csv')\n",
    "\n",
    "# 결측치나 이상치는 없음\n",
    "# Feature Engineering 할 필요가 없음\n",
    "\n",
    "# 독립변수와 종속변수 분리\n",
    "x_data = df.drop('label', axis=1, inplace=False)\n",
    "t_data = df['label']   # one-hot encoding 해야하는데 일단 보류\n",
    "\n",
    "# Normalization\n",
    "scaler = MinMaxScaler()\n",
    "scaler.fit(x_data)\n",
    "x_data_norm = scaler.transform(x_data)\n",
    "\n",
    "# Data Split\n",
    "x_data_train, x_data_test, t_data_train, t_data_test = \\\n",
    "train_test_split(x_data_norm,t_data,test_size=0.3, random_state=0)\n",
    "\n",
    "# Model 생성\n",
    "sklearn_model = LogisticRegression(solver='saga')\n",
    "# solver라는 개념이 있는데 default로 사용되는건 lbfgs\n",
    "# lbfgs : 작은 데이터셋에 좋아요!, 데이터량이 많으면 성능이 별로임\n",
    "# 데이터량이 많은 경우 sag(Stochastic Average Gradient Descent)를 사용하면 더 좋음\n",
    "# 일반적으로 또 이걸 개량한 saga를 더 많이 이용\n",
    "\n",
    "sklearn_model.fit(x_data_train,t_data_train)  # 학습진행\n",
    "print('sklearn result :')\n",
    "print(classification_report(t_data_test, \n",
    "                            sklearn_model.predict(x_data_test)))\n",
    "\n",
    "# TF 2.0 구현\n",
    "keras_model = Sequential()\n",
    "keras_model.add(Flatten(input_shape=(x_data_train.shape[1],)))\n",
    "keras_model.add(Dense(10, activation='softmax'))\n",
    "\n",
    "keras_model.compile(optimizer=SGD(learning_rate=1e-2),\n",
    "                    loss='sparse_categorical_crossentropy',   # sparse를 붙여주면 one-hot encoing 작업을 생략 가능\n",
    "                    metrics=['sparse_categorical_accuracy'])\n",
    "\n",
    "history = keras_model.fit(x_data_train,\n",
    "                          t_data_train,\n",
    "                          epochs=500,\n",
    "                          batch_size=100,\n",
    "                          verbose=0,\n",
    "                          validation_split=0.3)\n",
    "\n",
    "print('tensorflow result :')\n",
    "print(keras_model.evaluate(x_data_test,t_data_test))"
   ]
  },
  {
   "cell_type": "code",
   "execution_count": 44,
   "metadata": {},
   "outputs": [
    {
     "name": "stdout",
     "output_type": "stream",
     "text": [
      "              precision    recall  f1-score   support\n",
      "\n",
      "           0       0.95      0.96      0.96      1242\n",
      "           1       0.96      0.97      0.97      1429\n",
      "           2       0.93      0.90      0.91      1276\n",
      "           3       0.91      0.89      0.90      1298\n",
      "           4       0.92      0.92      0.92      1236\n",
      "           5       0.89      0.88      0.88      1119\n",
      "           6       0.92      0.97      0.94      1243\n",
      "           7       0.94      0.93      0.93      1334\n",
      "           8       0.89      0.88      0.88      1204\n",
      "           9       0.88      0.89      0.89      1219\n",
      "\n",
      "    accuracy                           0.92     12600\n",
      "   macro avg       0.92      0.92      0.92     12600\n",
      "weighted avg       0.92      0.92      0.92     12600\n",
      "\n"
     ]
    },
    {
     "data": {
      "image/png": "[encoded data removed]",
      "text/plain": [
       "<Figure size 432x288 with 1 Axes>"
      ]
     },
     "metadata": {
      "needs_background": "light"
     },
     "output_type": "display_data"
    }
   ],
   "source": [
    "print(classification_report(t_data_test, \n",
    "                            (tf.argmax(keras_model.predict(x_data_test), axis=1)).numpy()))\n",
    "# classification_report의 형식을 맞춰주기 위해 아래와 같이 predict 형식 수정\n",
    "# (tf.argmax(keras_model.predict(x_data_test), axis=1)).numpy()\n",
    "\n",
    "import matplotlib.pyplot as plt\n",
    "\n",
    "history.history.keys()\n",
    "plt.plot(history.history['sparse_categorical_accuracy'], color='b')\n",
    "plt.plot(history.history['val_sparse_categorical_accuracy'], color='r')\n",
    "plt.show()"
   ]
  },
  {
   "cell_type": "code",
   "execution_count": null,
   "metadata": {},
   "outputs": [],
   "source": []
  }
 ],
 "metadata": {
  "kernelspec": {
   "display_name": "Python [conda env:data_env_tensorflow2] *",
   "language": "python",
   "name": "conda-env-data_env_tensorflow2-py"
  },
  "language_info": {
   "codemirror_mode": {
    "name": "ipython",
    "version": 3
   },
   "file_extension": ".py",
   "mimetype": "text/x-python",
   "name": "python",
   "nbconvert_exporter": "python",
   "pygments_lexer": "ipython3",
   "version": "3.7.9"
  }
 },
 "nbformat": 4,
 "nbformat_minor": 4
}
