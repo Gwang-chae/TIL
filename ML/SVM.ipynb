{
 "cells": [
  {
   "cell_type": "code",
   "execution_count": 22,
   "metadata": {},
   "outputs": [
    {
     "name": "stderr",
     "output_type": "stream",
     "text": [
      "C:\\Users\\user\\anaconda3\\envs\\data_env\\lib\\site-packages\\sklearn\\utils\\deprecation.py:86: FutureWarning: Function make_blobs is deprecated; Please import make_blobs directly from scikit-learn\n",
      "  warnings.warn(msg, category=FutureWarning)\n"
     ]
    },
    {
     "data": {
      "image/png": "[encoded data removed]",
      "text/plain": [
       "<Figure size 432x288 with 1 Axes>"
      ]
     },
     "metadata": {
      "needs_background": "light"
     },
     "output_type": "display_data"
    },
    {
     "name": "stdout",
     "output_type": "stream",
     "text": [
      "[[ 8.69289001  1.54322016]\n",
      " [ 8.1062269   4.28695977]\n",
      " [ 8.7337095   2.49162431]\n",
      " [ 8.34468785  1.63824349]\n",
      " [ 9.50169345  1.93824624]\n",
      " [11.563957    1.3389402 ]\n",
      " [ 8.30988863  4.80623966]\n",
      " [11.93027136  4.64866327]\n",
      " [ 8.67494727  4.47573059]\n",
      " [10.24028948  2.45544401]\n",
      " [ 9.49123469  4.33224792]\n",
      " [ 7.99815287  4.8525051 ]]\n"
     ]
    },
    {
     "data": {
      "image/png": "[encoded data removed]",
      "text/plain": [
       "<Figure size 432x288 with 1 Axes>"
      ]
     },
     "metadata": {
      "needs_background": "light"
     },
     "output_type": "display_data"
    }
   ],
   "source": [
    "import numpy as np\n",
    "from sklearn.svm import SVC\n",
    "import matplotlib.pyplot as plt\n",
    "from mlxtend.plotting import plot_decision_regions\n",
    "import mglearn\n",
    "\n",
    "# Data Loading\n",
    "x_data, t_data = mglearn.datasets.make_forge()\n",
    "\n",
    "# 데이터 분포도 확인\n",
    "x_data_red = x_data[t_data==0]\n",
    "x_data_blue = x_data[t_data==1]\n",
    "\n",
    "plt.scatter(x_data_red[:,0], x_data_red[:,1], color='r')\n",
    "plt.scatter(x_data_blue[:,0], x_data_blue[:,1], color='b')\n",
    "plt.show()\n",
    "\n",
    "# model 생성\n",
    "model = SVC()\n",
    "model.fit(x_data, t_data)\n",
    "\n",
    "# SVM은 support vector를 구하고 이를 이용해 Decision Boundaries를 구함\n",
    "print(model.support_vectors_)\n",
    "\n",
    "plot_decision_regions(X=x_data, y=t_data, clf=model, legend=2)\n",
    "plt.show()"
   ]
  },
  {
   "cell_type": "code",
   "execution_count": null,
   "metadata": {},
   "outputs": [],
   "source": []
  }
 ],
 "metadata": {
  "kernelspec": {
   "display_name": "Python [conda env:data_env] *",
   "language": "python",
   "name": "conda-env-data_env-py"
  },
  "language_info": {
   "codemirror_mode": {
    "name": "ipython",
    "version": 3
   },
   "file_extension": ".py",
   "mimetype": "text/x-python",
   "name": "python",
   "nbconvert_exporter": "python",
   "pygments_lexer": "ipython3",
   "version": "3.7.9"
  }
 },
 "nbformat": 4,
 "nbformat_minor": 4
}
